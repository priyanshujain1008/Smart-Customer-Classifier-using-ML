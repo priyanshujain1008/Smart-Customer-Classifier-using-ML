{
 "cells": [
  {
   "cell_type": "code",
   "execution_count": 1,
   "id": "6fcf59e4",
   "metadata": {},
   "outputs": [],
   "source": [
    "import pandas as pd\n",
    "import numpy as np\n"
   ]
  },
  {
   "cell_type": "code",
   "execution_count": 2,
   "id": "9af4ee9f",
   "metadata": {},
   "outputs": [],
   "source": [
    "import matplotlib.pyplot as plt\n",
    "import seaborn as sns"
   ]
  },
  {
   "cell_type": "code",
   "execution_count": 3,
   "id": "0b473ada",
   "metadata": {},
   "outputs": [
    {
     "data": {
      "text/html": [
       "<div>\n",
       "<style scoped>\n",
       "    .dataframe tbody tr th:only-of-type {\n",
       "        vertical-align: middle;\n",
       "    }\n",
       "\n",
       "    .dataframe tbody tr th {\n",
       "        vertical-align: top;\n",
       "    }\n",
       "\n",
       "    .dataframe thead th {\n",
       "        text-align: right;\n",
       "    }\n",
       "</style>\n",
       "<table border=\"1\" class=\"dataframe\">\n",
       "  <thead>\n",
       "    <tr style=\"text-align: right;\">\n",
       "      <th></th>\n",
       "      <th>ID</th>\n",
       "      <th>Year_Birth</th>\n",
       "      <th>Education</th>\n",
       "      <th>Marital_Status</th>\n",
       "      <th>Income</th>\n",
       "      <th>Kidhome</th>\n",
       "      <th>Teenhome</th>\n",
       "      <th>Dt_Customer</th>\n",
       "      <th>Recency</th>\n",
       "      <th>MntWines</th>\n",
       "      <th>...</th>\n",
       "      <th>NumWebVisitsMonth</th>\n",
       "      <th>AcceptedCmp3</th>\n",
       "      <th>AcceptedCmp4</th>\n",
       "      <th>AcceptedCmp5</th>\n",
       "      <th>AcceptedCmp1</th>\n",
       "      <th>AcceptedCmp2</th>\n",
       "      <th>Complain</th>\n",
       "      <th>Z_CostContact</th>\n",
       "      <th>Z_Revenue</th>\n",
       "      <th>Response</th>\n",
       "    </tr>\n",
       "  </thead>\n",
       "  <tbody>\n",
       "    <tr>\n",
       "      <th>0</th>\n",
       "      <td>5524</td>\n",
       "      <td>1957</td>\n",
       "      <td>Graduation</td>\n",
       "      <td>Single</td>\n",
       "      <td>58138.0</td>\n",
       "      <td>0</td>\n",
       "      <td>0</td>\n",
       "      <td>04-09-2012</td>\n",
       "      <td>58</td>\n",
       "      <td>635</td>\n",
       "      <td>...</td>\n",
       "      <td>7</td>\n",
       "      <td>0</td>\n",
       "      <td>0</td>\n",
       "      <td>0</td>\n",
       "      <td>0</td>\n",
       "      <td>0</td>\n",
       "      <td>0</td>\n",
       "      <td>3</td>\n",
       "      <td>11</td>\n",
       "      <td>1</td>\n",
       "    </tr>\n",
       "    <tr>\n",
       "      <th>1</th>\n",
       "      <td>2174</td>\n",
       "      <td>1954</td>\n",
       "      <td>Graduation</td>\n",
       "      <td>Single</td>\n",
       "      <td>46344.0</td>\n",
       "      <td>1</td>\n",
       "      <td>1</td>\n",
       "      <td>08-03-2014</td>\n",
       "      <td>38</td>\n",
       "      <td>11</td>\n",
       "      <td>...</td>\n",
       "      <td>5</td>\n",
       "      <td>0</td>\n",
       "      <td>0</td>\n",
       "      <td>0</td>\n",
       "      <td>0</td>\n",
       "      <td>0</td>\n",
       "      <td>0</td>\n",
       "      <td>3</td>\n",
       "      <td>11</td>\n",
       "      <td>0</td>\n",
       "    </tr>\n",
       "    <tr>\n",
       "      <th>2</th>\n",
       "      <td>4141</td>\n",
       "      <td>1965</td>\n",
       "      <td>Graduation</td>\n",
       "      <td>Together</td>\n",
       "      <td>71613.0</td>\n",
       "      <td>0</td>\n",
       "      <td>0</td>\n",
       "      <td>21-08-2013</td>\n",
       "      <td>26</td>\n",
       "      <td>426</td>\n",
       "      <td>...</td>\n",
       "      <td>4</td>\n",
       "      <td>0</td>\n",
       "      <td>0</td>\n",
       "      <td>0</td>\n",
       "      <td>0</td>\n",
       "      <td>0</td>\n",
       "      <td>0</td>\n",
       "      <td>3</td>\n",
       "      <td>11</td>\n",
       "      <td>0</td>\n",
       "    </tr>\n",
       "    <tr>\n",
       "      <th>3</th>\n",
       "      <td>6182</td>\n",
       "      <td>1984</td>\n",
       "      <td>Graduation</td>\n",
       "      <td>Together</td>\n",
       "      <td>26646.0</td>\n",
       "      <td>1</td>\n",
       "      <td>0</td>\n",
       "      <td>10-02-2014</td>\n",
       "      <td>26</td>\n",
       "      <td>11</td>\n",
       "      <td>...</td>\n",
       "      <td>6</td>\n",
       "      <td>0</td>\n",
       "      <td>0</td>\n",
       "      <td>0</td>\n",
       "      <td>0</td>\n",
       "      <td>0</td>\n",
       "      <td>0</td>\n",
       "      <td>3</td>\n",
       "      <td>11</td>\n",
       "      <td>0</td>\n",
       "    </tr>\n",
       "    <tr>\n",
       "      <th>4</th>\n",
       "      <td>5324</td>\n",
       "      <td>1981</td>\n",
       "      <td>PhD</td>\n",
       "      <td>Married</td>\n",
       "      <td>58293.0</td>\n",
       "      <td>1</td>\n",
       "      <td>0</td>\n",
       "      <td>19-01-2014</td>\n",
       "      <td>94</td>\n",
       "      <td>173</td>\n",
       "      <td>...</td>\n",
       "      <td>5</td>\n",
       "      <td>0</td>\n",
       "      <td>0</td>\n",
       "      <td>0</td>\n",
       "      <td>0</td>\n",
       "      <td>0</td>\n",
       "      <td>0</td>\n",
       "      <td>3</td>\n",
       "      <td>11</td>\n",
       "      <td>0</td>\n",
       "    </tr>\n",
       "  </tbody>\n",
       "</table>\n",
       "<p>5 rows × 29 columns</p>\n",
       "</div>"
      ],
      "text/plain": [
       "     ID  Year_Birth   Education Marital_Status   Income  Kidhome  Teenhome  \\\n",
       "0  5524        1957  Graduation         Single  58138.0        0         0   \n",
       "1  2174        1954  Graduation         Single  46344.0        1         1   \n",
       "2  4141        1965  Graduation       Together  71613.0        0         0   \n",
       "3  6182        1984  Graduation       Together  26646.0        1         0   \n",
       "4  5324        1981         PhD        Married  58293.0        1         0   \n",
       "\n",
       "  Dt_Customer  Recency  MntWines  ...  NumWebVisitsMonth  AcceptedCmp3  \\\n",
       "0  04-09-2012       58       635  ...                  7             0   \n",
       "1  08-03-2014       38        11  ...                  5             0   \n",
       "2  21-08-2013       26       426  ...                  4             0   \n",
       "3  10-02-2014       26        11  ...                  6             0   \n",
       "4  19-01-2014       94       173  ...                  5             0   \n",
       "\n",
       "   AcceptedCmp4  AcceptedCmp5  AcceptedCmp1  AcceptedCmp2  Complain  \\\n",
       "0             0             0             0             0         0   \n",
       "1             0             0             0             0         0   \n",
       "2             0             0             0             0         0   \n",
       "3             0             0             0             0         0   \n",
       "4             0             0             0             0         0   \n",
       "\n",
       "   Z_CostContact  Z_Revenue  Response  \n",
       "0              3         11         1  \n",
       "1              3         11         0  \n",
       "2              3         11         0  \n",
       "3              3         11         0  \n",
       "4              3         11         0  \n",
       "\n",
       "[5 rows x 29 columns]"
      ]
     },
     "execution_count": 3,
     "metadata": {},
     "output_type": "execute_result"
    }
   ],
   "source": [
    "df = pd.read_csv(\"customer_segmentation.csv\")\n",
    "df.head()"
   ]
  },
  {
   "cell_type": "code",
   "execution_count": 4,
   "id": "98e209a0",
   "metadata": {},
   "outputs": [
    {
     "data": {
      "text/plain": [
       "Index(['ID', 'Year_Birth', 'Education', 'Marital_Status', 'Income', 'Kidhome',\n",
       "       'Teenhome', 'Dt_Customer', 'Recency', 'MntWines', 'MntFruits',\n",
       "       'MntMeatProducts', 'MntFishProducts', 'MntSweetProducts',\n",
       "       'MntGoldProds', 'NumDealsPurchases', 'NumWebPurchases',\n",
       "       'NumCatalogPurchases', 'NumStorePurchases', 'NumWebVisitsMonth',\n",
       "       'AcceptedCmp3', 'AcceptedCmp4', 'AcceptedCmp5', 'AcceptedCmp1',\n",
       "       'AcceptedCmp2', 'Complain', 'Z_CostContact', 'Z_Revenue', 'Response'],\n",
       "      dtype='object')"
      ]
     },
     "execution_count": 4,
     "metadata": {},
     "output_type": "execute_result"
    }
   ],
   "source": [
    "df.columns"
   ]
  },
  {
   "cell_type": "code",
   "execution_count": 5,
   "id": "7ad39fa1",
   "metadata": {},
   "outputs": [
    {
     "data": {
      "text/plain": [
       "(2240, 29)"
      ]
     },
     "execution_count": 5,
     "metadata": {},
     "output_type": "execute_result"
    }
   ],
   "source": [
    "df.shape"
   ]
  },
  {
   "cell_type": "code",
   "execution_count": 6,
   "id": "87f87cfc",
   "metadata": {},
   "outputs": [
    {
     "name": "stdout",
     "output_type": "stream",
     "text": [
      "<class 'pandas.core.frame.DataFrame'>\n",
      "RangeIndex: 2240 entries, 0 to 2239\n",
      "Data columns (total 29 columns):\n",
      " #   Column               Non-Null Count  Dtype  \n",
      "---  ------               --------------  -----  \n",
      " 0   ID                   2240 non-null   int64  \n",
      " 1   Year_Birth           2240 non-null   int64  \n",
      " 2   Education            2240 non-null   object \n",
      " 3   Marital_Status       2240 non-null   object \n",
      " 4   Income               2216 non-null   float64\n",
      " 5   Kidhome              2240 non-null   int64  \n",
      " 6   Teenhome             2240 non-null   int64  \n",
      " 7   Dt_Customer          2240 non-null   object \n",
      " 8   Recency              2240 non-null   int64  \n",
      " 9   MntWines             2240 non-null   int64  \n",
      " 10  MntFruits            2240 non-null   int64  \n",
      " 11  MntMeatProducts      2240 non-null   int64  \n",
      " 12  MntFishProducts      2240 non-null   int64  \n",
      " 13  MntSweetProducts     2240 non-null   int64  \n",
      " 14  MntGoldProds         2240 non-null   int64  \n",
      " 15  NumDealsPurchases    2240 non-null   int64  \n",
      " 16  NumWebPurchases      2240 non-null   int64  \n",
      " 17  NumCatalogPurchases  2240 non-null   int64  \n",
      " 18  NumStorePurchases    2240 non-null   int64  \n",
      " 19  NumWebVisitsMonth    2240 non-null   int64  \n",
      " 20  AcceptedCmp3         2240 non-null   int64  \n",
      " 21  AcceptedCmp4         2240 non-null   int64  \n",
      " 22  AcceptedCmp5         2240 non-null   int64  \n",
      " 23  AcceptedCmp1         2240 non-null   int64  \n",
      " 24  AcceptedCmp2         2240 non-null   int64  \n",
      " 25  Complain             2240 non-null   int64  \n",
      " 26  Z_CostContact        2240 non-null   int64  \n",
      " 27  Z_Revenue            2240 non-null   int64  \n",
      " 28  Response             2240 non-null   int64  \n",
      "dtypes: float64(1), int64(25), object(3)\n",
      "memory usage: 507.6+ KB\n"
     ]
    }
   ],
   "source": [
    "df.info()"
   ]
  },
  {
   "cell_type": "code",
   "execution_count": 7,
   "id": "0bc60c8a",
   "metadata": {},
   "outputs": [
    {
     "data": {
      "text/plain": [
       "np.int64(24)"
      ]
     },
     "execution_count": 7,
     "metadata": {},
     "output_type": "execute_result"
    }
   ],
   "source": [
    "df.isna().sum().sum()"
   ]
  },
  {
   "cell_type": "code",
   "execution_count": 8,
   "id": "14c4b25a",
   "metadata": {},
   "outputs": [],
   "source": [
    "df.dropna(inplace=True)"
   ]
  },
  {
   "cell_type": "code",
   "execution_count": 9,
   "id": "60f865ef",
   "metadata": {},
   "outputs": [
    {
     "data": {
      "text/html": [
       "<div>\n",
       "<style scoped>\n",
       "    .dataframe tbody tr th:only-of-type {\n",
       "        vertical-align: middle;\n",
       "    }\n",
       "\n",
       "    .dataframe tbody tr th {\n",
       "        vertical-align: top;\n",
       "    }\n",
       "\n",
       "    .dataframe thead th {\n",
       "        text-align: right;\n",
       "    }\n",
       "</style>\n",
       "<table border=\"1\" class=\"dataframe\">\n",
       "  <thead>\n",
       "    <tr style=\"text-align: right;\">\n",
       "      <th></th>\n",
       "      <th>ID</th>\n",
       "      <th>Year_Birth</th>\n",
       "      <th>Income</th>\n",
       "      <th>Kidhome</th>\n",
       "      <th>Teenhome</th>\n",
       "      <th>Recency</th>\n",
       "      <th>MntWines</th>\n",
       "      <th>MntFruits</th>\n",
       "      <th>MntMeatProducts</th>\n",
       "      <th>MntFishProducts</th>\n",
       "      <th>...</th>\n",
       "      <th>NumWebVisitsMonth</th>\n",
       "      <th>AcceptedCmp3</th>\n",
       "      <th>AcceptedCmp4</th>\n",
       "      <th>AcceptedCmp5</th>\n",
       "      <th>AcceptedCmp1</th>\n",
       "      <th>AcceptedCmp2</th>\n",
       "      <th>Complain</th>\n",
       "      <th>Z_CostContact</th>\n",
       "      <th>Z_Revenue</th>\n",
       "      <th>Response</th>\n",
       "    </tr>\n",
       "  </thead>\n",
       "  <tbody>\n",
       "    <tr>\n",
       "      <th>count</th>\n",
       "      <td>2216.000000</td>\n",
       "      <td>2216.000000</td>\n",
       "      <td>2216.000000</td>\n",
       "      <td>2216.000000</td>\n",
       "      <td>2216.000000</td>\n",
       "      <td>2216.000000</td>\n",
       "      <td>2216.000000</td>\n",
       "      <td>2216.000000</td>\n",
       "      <td>2216.000000</td>\n",
       "      <td>2216.000000</td>\n",
       "      <td>...</td>\n",
       "      <td>2216.000000</td>\n",
       "      <td>2216.000000</td>\n",
       "      <td>2216.000000</td>\n",
       "      <td>2216.000000</td>\n",
       "      <td>2216.000000</td>\n",
       "      <td>2216.000000</td>\n",
       "      <td>2216.000000</td>\n",
       "      <td>2216.0</td>\n",
       "      <td>2216.0</td>\n",
       "      <td>2216.000000</td>\n",
       "    </tr>\n",
       "    <tr>\n",
       "      <th>mean</th>\n",
       "      <td>5588.353339</td>\n",
       "      <td>1968.820397</td>\n",
       "      <td>52247.251354</td>\n",
       "      <td>0.441787</td>\n",
       "      <td>0.505415</td>\n",
       "      <td>49.012635</td>\n",
       "      <td>305.091606</td>\n",
       "      <td>26.356047</td>\n",
       "      <td>166.995939</td>\n",
       "      <td>37.637635</td>\n",
       "      <td>...</td>\n",
       "      <td>5.319043</td>\n",
       "      <td>0.073556</td>\n",
       "      <td>0.074007</td>\n",
       "      <td>0.073105</td>\n",
       "      <td>0.064079</td>\n",
       "      <td>0.013538</td>\n",
       "      <td>0.009477</td>\n",
       "      <td>3.0</td>\n",
       "      <td>11.0</td>\n",
       "      <td>0.150271</td>\n",
       "    </tr>\n",
       "    <tr>\n",
       "      <th>std</th>\n",
       "      <td>3249.376275</td>\n",
       "      <td>11.985554</td>\n",
       "      <td>25173.076661</td>\n",
       "      <td>0.536896</td>\n",
       "      <td>0.544181</td>\n",
       "      <td>28.948352</td>\n",
       "      <td>337.327920</td>\n",
       "      <td>39.793917</td>\n",
       "      <td>224.283273</td>\n",
       "      <td>54.752082</td>\n",
       "      <td>...</td>\n",
       "      <td>2.425359</td>\n",
       "      <td>0.261106</td>\n",
       "      <td>0.261842</td>\n",
       "      <td>0.260367</td>\n",
       "      <td>0.244950</td>\n",
       "      <td>0.115588</td>\n",
       "      <td>0.096907</td>\n",
       "      <td>0.0</td>\n",
       "      <td>0.0</td>\n",
       "      <td>0.357417</td>\n",
       "    </tr>\n",
       "    <tr>\n",
       "      <th>min</th>\n",
       "      <td>0.000000</td>\n",
       "      <td>1893.000000</td>\n",
       "      <td>1730.000000</td>\n",
       "      <td>0.000000</td>\n",
       "      <td>0.000000</td>\n",
       "      <td>0.000000</td>\n",
       "      <td>0.000000</td>\n",
       "      <td>0.000000</td>\n",
       "      <td>0.000000</td>\n",
       "      <td>0.000000</td>\n",
       "      <td>...</td>\n",
       "      <td>0.000000</td>\n",
       "      <td>0.000000</td>\n",
       "      <td>0.000000</td>\n",
       "      <td>0.000000</td>\n",
       "      <td>0.000000</td>\n",
       "      <td>0.000000</td>\n",
       "      <td>0.000000</td>\n",
       "      <td>3.0</td>\n",
       "      <td>11.0</td>\n",
       "      <td>0.000000</td>\n",
       "    </tr>\n",
       "    <tr>\n",
       "      <th>25%</th>\n",
       "      <td>2814.750000</td>\n",
       "      <td>1959.000000</td>\n",
       "      <td>35303.000000</td>\n",
       "      <td>0.000000</td>\n",
       "      <td>0.000000</td>\n",
       "      <td>24.000000</td>\n",
       "      <td>24.000000</td>\n",
       "      <td>2.000000</td>\n",
       "      <td>16.000000</td>\n",
       "      <td>3.000000</td>\n",
       "      <td>...</td>\n",
       "      <td>3.000000</td>\n",
       "      <td>0.000000</td>\n",
       "      <td>0.000000</td>\n",
       "      <td>0.000000</td>\n",
       "      <td>0.000000</td>\n",
       "      <td>0.000000</td>\n",
       "      <td>0.000000</td>\n",
       "      <td>3.0</td>\n",
       "      <td>11.0</td>\n",
       "      <td>0.000000</td>\n",
       "    </tr>\n",
       "    <tr>\n",
       "      <th>50%</th>\n",
       "      <td>5458.500000</td>\n",
       "      <td>1970.000000</td>\n",
       "      <td>51381.500000</td>\n",
       "      <td>0.000000</td>\n",
       "      <td>0.000000</td>\n",
       "      <td>49.000000</td>\n",
       "      <td>174.500000</td>\n",
       "      <td>8.000000</td>\n",
       "      <td>68.000000</td>\n",
       "      <td>12.000000</td>\n",
       "      <td>...</td>\n",
       "      <td>6.000000</td>\n",
       "      <td>0.000000</td>\n",
       "      <td>0.000000</td>\n",
       "      <td>0.000000</td>\n",
       "      <td>0.000000</td>\n",
       "      <td>0.000000</td>\n",
       "      <td>0.000000</td>\n",
       "      <td>3.0</td>\n",
       "      <td>11.0</td>\n",
       "      <td>0.000000</td>\n",
       "    </tr>\n",
       "    <tr>\n",
       "      <th>75%</th>\n",
       "      <td>8421.750000</td>\n",
       "      <td>1977.000000</td>\n",
       "      <td>68522.000000</td>\n",
       "      <td>1.000000</td>\n",
       "      <td>1.000000</td>\n",
       "      <td>74.000000</td>\n",
       "      <td>505.000000</td>\n",
       "      <td>33.000000</td>\n",
       "      <td>232.250000</td>\n",
       "      <td>50.000000</td>\n",
       "      <td>...</td>\n",
       "      <td>7.000000</td>\n",
       "      <td>0.000000</td>\n",
       "      <td>0.000000</td>\n",
       "      <td>0.000000</td>\n",
       "      <td>0.000000</td>\n",
       "      <td>0.000000</td>\n",
       "      <td>0.000000</td>\n",
       "      <td>3.0</td>\n",
       "      <td>11.0</td>\n",
       "      <td>0.000000</td>\n",
       "    </tr>\n",
       "    <tr>\n",
       "      <th>max</th>\n",
       "      <td>11191.000000</td>\n",
       "      <td>1996.000000</td>\n",
       "      <td>666666.000000</td>\n",
       "      <td>2.000000</td>\n",
       "      <td>2.000000</td>\n",
       "      <td>99.000000</td>\n",
       "      <td>1493.000000</td>\n",
       "      <td>199.000000</td>\n",
       "      <td>1725.000000</td>\n",
       "      <td>259.000000</td>\n",
       "      <td>...</td>\n",
       "      <td>20.000000</td>\n",
       "      <td>1.000000</td>\n",
       "      <td>1.000000</td>\n",
       "      <td>1.000000</td>\n",
       "      <td>1.000000</td>\n",
       "      <td>1.000000</td>\n",
       "      <td>1.000000</td>\n",
       "      <td>3.0</td>\n",
       "      <td>11.0</td>\n",
       "      <td>1.000000</td>\n",
       "    </tr>\n",
       "  </tbody>\n",
       "</table>\n",
       "<p>8 rows × 26 columns</p>\n",
       "</div>"
      ],
      "text/plain": [
       "                 ID   Year_Birth         Income      Kidhome     Teenhome  \\\n",
       "count   2216.000000  2216.000000    2216.000000  2216.000000  2216.000000   \n",
       "mean    5588.353339  1968.820397   52247.251354     0.441787     0.505415   \n",
       "std     3249.376275    11.985554   25173.076661     0.536896     0.544181   \n",
       "min        0.000000  1893.000000    1730.000000     0.000000     0.000000   \n",
       "25%     2814.750000  1959.000000   35303.000000     0.000000     0.000000   \n",
       "50%     5458.500000  1970.000000   51381.500000     0.000000     0.000000   \n",
       "75%     8421.750000  1977.000000   68522.000000     1.000000     1.000000   \n",
       "max    11191.000000  1996.000000  666666.000000     2.000000     2.000000   \n",
       "\n",
       "           Recency     MntWines    MntFruits  MntMeatProducts  \\\n",
       "count  2216.000000  2216.000000  2216.000000      2216.000000   \n",
       "mean     49.012635   305.091606    26.356047       166.995939   \n",
       "std      28.948352   337.327920    39.793917       224.283273   \n",
       "min       0.000000     0.000000     0.000000         0.000000   \n",
       "25%      24.000000    24.000000     2.000000        16.000000   \n",
       "50%      49.000000   174.500000     8.000000        68.000000   \n",
       "75%      74.000000   505.000000    33.000000       232.250000   \n",
       "max      99.000000  1493.000000   199.000000      1725.000000   \n",
       "\n",
       "       MntFishProducts  ...  NumWebVisitsMonth  AcceptedCmp3  AcceptedCmp4  \\\n",
       "count      2216.000000  ...        2216.000000   2216.000000   2216.000000   \n",
       "mean         37.637635  ...           5.319043      0.073556      0.074007   \n",
       "std          54.752082  ...           2.425359      0.261106      0.261842   \n",
       "min           0.000000  ...           0.000000      0.000000      0.000000   \n",
       "25%           3.000000  ...           3.000000      0.000000      0.000000   \n",
       "50%          12.000000  ...           6.000000      0.000000      0.000000   \n",
       "75%          50.000000  ...           7.000000      0.000000      0.000000   \n",
       "max         259.000000  ...          20.000000      1.000000      1.000000   \n",
       "\n",
       "       AcceptedCmp5  AcceptedCmp1  AcceptedCmp2     Complain  Z_CostContact  \\\n",
       "count   2216.000000   2216.000000   2216.000000  2216.000000         2216.0   \n",
       "mean       0.073105      0.064079      0.013538     0.009477            3.0   \n",
       "std        0.260367      0.244950      0.115588     0.096907            0.0   \n",
       "min        0.000000      0.000000      0.000000     0.000000            3.0   \n",
       "25%        0.000000      0.000000      0.000000     0.000000            3.0   \n",
       "50%        0.000000      0.000000      0.000000     0.000000            3.0   \n",
       "75%        0.000000      0.000000      0.000000     0.000000            3.0   \n",
       "max        1.000000      1.000000      1.000000     1.000000            3.0   \n",
       "\n",
       "       Z_Revenue     Response  \n",
       "count     2216.0  2216.000000  \n",
       "mean        11.0     0.150271  \n",
       "std          0.0     0.357417  \n",
       "min         11.0     0.000000  \n",
       "25%         11.0     0.000000  \n",
       "50%         11.0     0.000000  \n",
       "75%         11.0     0.000000  \n",
       "max         11.0     1.000000  \n",
       "\n",
       "[8 rows x 26 columns]"
      ]
     },
     "execution_count": 9,
     "metadata": {},
     "output_type": "execute_result"
    }
   ],
   "source": [
    "df.describe()"
   ]
  },
  {
   "cell_type": "code",
   "execution_count": 10,
   "id": "7e56a50f",
   "metadata": {},
   "outputs": [
    {
     "data": {
      "text/plain": [
       "Education\n",
       "Graduation    1116\n",
       "PhD            481\n",
       "Master         365\n",
       "2n Cycle       200\n",
       "Basic           54\n",
       "Name: count, dtype: int64"
      ]
     },
     "execution_count": 10,
     "metadata": {},
     "output_type": "execute_result"
    }
   ],
   "source": [
    "df[\"Education\"].value_counts()"
   ]
  },
  {
   "cell_type": "code",
   "execution_count": 11,
   "id": "f450688e",
   "metadata": {},
   "outputs": [
    {
     "data": {
      "text/plain": [
       "Marital_Status\n",
       "Married     857\n",
       "Together    573\n",
       "Single      471\n",
       "Divorced    232\n",
       "Widow        76\n",
       "Alone         3\n",
       "Absurd        2\n",
       "YOLO          2\n",
       "Name: count, dtype: int64"
      ]
     },
     "execution_count": 11,
     "metadata": {},
     "output_type": "execute_result"
    }
   ],
   "source": [
    "df[\"Marital_Status\"].value_counts()"
   ]
  },
  {
   "cell_type": "code",
   "execution_count": 12,
   "id": "3fee459b",
   "metadata": {},
   "outputs": [],
   "source": [
    "df[\"Dt_Customer\"] =pd.to_datetime(df[\"Dt_Customer\"],dayfirst=True)"
   ]
  },
  {
   "cell_type": "code",
   "execution_count": 13,
   "id": "1d52021e",
   "metadata": {},
   "outputs": [
    {
     "name": "stdout",
     "output_type": "stream",
     "text": [
      "<class 'pandas.core.frame.DataFrame'>\n",
      "Index: 2216 entries, 0 to 2239\n",
      "Data columns (total 29 columns):\n",
      " #   Column               Non-Null Count  Dtype         \n",
      "---  ------               --------------  -----         \n",
      " 0   ID                   2216 non-null   int64         \n",
      " 1   Year_Birth           2216 non-null   int64         \n",
      " 2   Education            2216 non-null   object        \n",
      " 3   Marital_Status       2216 non-null   object        \n",
      " 4   Income               2216 non-null   float64       \n",
      " 5   Kidhome              2216 non-null   int64         \n",
      " 6   Teenhome             2216 non-null   int64         \n",
      " 7   Dt_Customer          2216 non-null   datetime64[ns]\n",
      " 8   Recency              2216 non-null   int64         \n",
      " 9   MntWines             2216 non-null   int64         \n",
      " 10  MntFruits            2216 non-null   int64         \n",
      " 11  MntMeatProducts      2216 non-null   int64         \n",
      " 12  MntFishProducts      2216 non-null   int64         \n",
      " 13  MntSweetProducts     2216 non-null   int64         \n",
      " 14  MntGoldProds         2216 non-null   int64         \n",
      " 15  NumDealsPurchases    2216 non-null   int64         \n",
      " 16  NumWebPurchases      2216 non-null   int64         \n",
      " 17  NumCatalogPurchases  2216 non-null   int64         \n",
      " 18  NumStorePurchases    2216 non-null   int64         \n",
      " 19  NumWebVisitsMonth    2216 non-null   int64         \n",
      " 20  AcceptedCmp3         2216 non-null   int64         \n",
      " 21  AcceptedCmp4         2216 non-null   int64         \n",
      " 22  AcceptedCmp5         2216 non-null   int64         \n",
      " 23  AcceptedCmp1         2216 non-null   int64         \n",
      " 24  AcceptedCmp2         2216 non-null   int64         \n",
      " 25  Complain             2216 non-null   int64         \n",
      " 26  Z_CostContact        2216 non-null   int64         \n",
      " 27  Z_Revenue            2216 non-null   int64         \n",
      " 28  Response             2216 non-null   int64         \n",
      "dtypes: datetime64[ns](1), float64(1), int64(25), object(2)\n",
      "memory usage: 519.4+ KB\n"
     ]
    }
   ],
   "source": [
    "df.info()"
   ]
  },
  {
   "cell_type": "code",
   "execution_count": 14,
   "id": "37a2cc8a",
   "metadata": {},
   "outputs": [],
   "source": [
    "df[\"Age\"] = 2025 -df[\"Year_Birth\"]"
   ]
  },
  {
   "cell_type": "code",
   "execution_count": 15,
   "id": "c6e310cd",
   "metadata": {},
   "outputs": [
    {
     "data": {
      "text/plain": [
       "0       68\n",
       "1       71\n",
       "2       60\n",
       "3       41\n",
       "4       44\n",
       "        ..\n",
       "2235    58\n",
       "2236    79\n",
       "2237    44\n",
       "2238    69\n",
       "2239    71\n",
       "Name: Age, Length: 2216, dtype: int64"
      ]
     },
     "execution_count": 15,
     "metadata": {},
     "output_type": "execute_result"
    }
   ],
   "source": [
    "df[\"Age\"]"
   ]
  },
  {
   "cell_type": "code",
   "execution_count": 16,
   "id": "64683507",
   "metadata": {},
   "outputs": [
    {
     "data": {
      "text/html": [
       "<div>\n",
       "<style scoped>\n",
       "    .dataframe tbody tr th:only-of-type {\n",
       "        vertical-align: middle;\n",
       "    }\n",
       "\n",
       "    .dataframe tbody tr th {\n",
       "        vertical-align: top;\n",
       "    }\n",
       "\n",
       "    .dataframe thead th {\n",
       "        text-align: right;\n",
       "    }\n",
       "</style>\n",
       "<table border=\"1\" class=\"dataframe\">\n",
       "  <thead>\n",
       "    <tr style=\"text-align: right;\">\n",
       "      <th></th>\n",
       "      <th>ID</th>\n",
       "      <th>Year_Birth</th>\n",
       "      <th>Education</th>\n",
       "      <th>Marital_Status</th>\n",
       "      <th>Income</th>\n",
       "      <th>Kidhome</th>\n",
       "      <th>Teenhome</th>\n",
       "      <th>Dt_Customer</th>\n",
       "      <th>Recency</th>\n",
       "      <th>MntWines</th>\n",
       "      <th>...</th>\n",
       "      <th>AcceptedCmp3</th>\n",
       "      <th>AcceptedCmp4</th>\n",
       "      <th>AcceptedCmp5</th>\n",
       "      <th>AcceptedCmp1</th>\n",
       "      <th>AcceptedCmp2</th>\n",
       "      <th>Complain</th>\n",
       "      <th>Z_CostContact</th>\n",
       "      <th>Z_Revenue</th>\n",
       "      <th>Response</th>\n",
       "      <th>Age</th>\n",
       "    </tr>\n",
       "  </thead>\n",
       "  <tbody>\n",
       "    <tr>\n",
       "      <th>0</th>\n",
       "      <td>5524</td>\n",
       "      <td>1957</td>\n",
       "      <td>Graduation</td>\n",
       "      <td>Single</td>\n",
       "      <td>58138.0</td>\n",
       "      <td>0</td>\n",
       "      <td>0</td>\n",
       "      <td>2012-09-04</td>\n",
       "      <td>58</td>\n",
       "      <td>635</td>\n",
       "      <td>...</td>\n",
       "      <td>0</td>\n",
       "      <td>0</td>\n",
       "      <td>0</td>\n",
       "      <td>0</td>\n",
       "      <td>0</td>\n",
       "      <td>0</td>\n",
       "      <td>3</td>\n",
       "      <td>11</td>\n",
       "      <td>1</td>\n",
       "      <td>68</td>\n",
       "    </tr>\n",
       "    <tr>\n",
       "      <th>1</th>\n",
       "      <td>2174</td>\n",
       "      <td>1954</td>\n",
       "      <td>Graduation</td>\n",
       "      <td>Single</td>\n",
       "      <td>46344.0</td>\n",
       "      <td>1</td>\n",
       "      <td>1</td>\n",
       "      <td>2014-03-08</td>\n",
       "      <td>38</td>\n",
       "      <td>11</td>\n",
       "      <td>...</td>\n",
       "      <td>0</td>\n",
       "      <td>0</td>\n",
       "      <td>0</td>\n",
       "      <td>0</td>\n",
       "      <td>0</td>\n",
       "      <td>0</td>\n",
       "      <td>3</td>\n",
       "      <td>11</td>\n",
       "      <td>0</td>\n",
       "      <td>71</td>\n",
       "    </tr>\n",
       "    <tr>\n",
       "      <th>2</th>\n",
       "      <td>4141</td>\n",
       "      <td>1965</td>\n",
       "      <td>Graduation</td>\n",
       "      <td>Together</td>\n",
       "      <td>71613.0</td>\n",
       "      <td>0</td>\n",
       "      <td>0</td>\n",
       "      <td>2013-08-21</td>\n",
       "      <td>26</td>\n",
       "      <td>426</td>\n",
       "      <td>...</td>\n",
       "      <td>0</td>\n",
       "      <td>0</td>\n",
       "      <td>0</td>\n",
       "      <td>0</td>\n",
       "      <td>0</td>\n",
       "      <td>0</td>\n",
       "      <td>3</td>\n",
       "      <td>11</td>\n",
       "      <td>0</td>\n",
       "      <td>60</td>\n",
       "    </tr>\n",
       "    <tr>\n",
       "      <th>3</th>\n",
       "      <td>6182</td>\n",
       "      <td>1984</td>\n",
       "      <td>Graduation</td>\n",
       "      <td>Together</td>\n",
       "      <td>26646.0</td>\n",
       "      <td>1</td>\n",
       "      <td>0</td>\n",
       "      <td>2014-02-10</td>\n",
       "      <td>26</td>\n",
       "      <td>11</td>\n",
       "      <td>...</td>\n",
       "      <td>0</td>\n",
       "      <td>0</td>\n",
       "      <td>0</td>\n",
       "      <td>0</td>\n",
       "      <td>0</td>\n",
       "      <td>0</td>\n",
       "      <td>3</td>\n",
       "      <td>11</td>\n",
       "      <td>0</td>\n",
       "      <td>41</td>\n",
       "    </tr>\n",
       "    <tr>\n",
       "      <th>4</th>\n",
       "      <td>5324</td>\n",
       "      <td>1981</td>\n",
       "      <td>PhD</td>\n",
       "      <td>Married</td>\n",
       "      <td>58293.0</td>\n",
       "      <td>1</td>\n",
       "      <td>0</td>\n",
       "      <td>2014-01-19</td>\n",
       "      <td>94</td>\n",
       "      <td>173</td>\n",
       "      <td>...</td>\n",
       "      <td>0</td>\n",
       "      <td>0</td>\n",
       "      <td>0</td>\n",
       "      <td>0</td>\n",
       "      <td>0</td>\n",
       "      <td>0</td>\n",
       "      <td>3</td>\n",
       "      <td>11</td>\n",
       "      <td>0</td>\n",
       "      <td>44</td>\n",
       "    </tr>\n",
       "  </tbody>\n",
       "</table>\n",
       "<p>5 rows × 30 columns</p>\n",
       "</div>"
      ],
      "text/plain": [
       "     ID  Year_Birth   Education Marital_Status   Income  Kidhome  Teenhome  \\\n",
       "0  5524        1957  Graduation         Single  58138.0        0         0   \n",
       "1  2174        1954  Graduation         Single  46344.0        1         1   \n",
       "2  4141        1965  Graduation       Together  71613.0        0         0   \n",
       "3  6182        1984  Graduation       Together  26646.0        1         0   \n",
       "4  5324        1981         PhD        Married  58293.0        1         0   \n",
       "\n",
       "  Dt_Customer  Recency  MntWines  ...  AcceptedCmp3  AcceptedCmp4  \\\n",
       "0  2012-09-04       58       635  ...             0             0   \n",
       "1  2014-03-08       38        11  ...             0             0   \n",
       "2  2013-08-21       26       426  ...             0             0   \n",
       "3  2014-02-10       26        11  ...             0             0   \n",
       "4  2014-01-19       94       173  ...             0             0   \n",
       "\n",
       "   AcceptedCmp5  AcceptedCmp1  AcceptedCmp2  Complain  Z_CostContact  \\\n",
       "0             0             0             0         0              3   \n",
       "1             0             0             0         0              3   \n",
       "2             0             0             0         0              3   \n",
       "3             0             0             0         0              3   \n",
       "4             0             0             0         0              3   \n",
       "\n",
       "   Z_Revenue  Response  Age  \n",
       "0         11         1   68  \n",
       "1         11         0   71  \n",
       "2         11         0   60  \n",
       "3         11         0   41  \n",
       "4         11         0   44  \n",
       "\n",
       "[5 rows x 30 columns]"
      ]
     },
     "execution_count": 16,
     "metadata": {},
     "output_type": "execute_result"
    }
   ],
   "source": [
    "df.head()"
   ]
  },
  {
   "cell_type": "code",
   "execution_count": 17,
   "id": "27150f2c",
   "metadata": {},
   "outputs": [],
   "source": [
    "df[\"Total_Children\"]=df[\"Kidhome\"] + df[\"Teenhome\"]"
   ]
  },
  {
   "cell_type": "code",
   "execution_count": 18,
   "id": "5b1d51cc",
   "metadata": {},
   "outputs": [
    {
     "data": {
      "text/plain": [
       "0       0\n",
       "1       2\n",
       "2       0\n",
       "3       1\n",
       "4       1\n",
       "       ..\n",
       "2235    1\n",
       "2236    3\n",
       "2237    0\n",
       "2238    1\n",
       "2239    2\n",
       "Name: Total_Children, Length: 2216, dtype: int64"
      ]
     },
     "execution_count": 18,
     "metadata": {},
     "output_type": "execute_result"
    }
   ],
   "source": [
    "df[\"Total_Children\"]"
   ]
  },
  {
   "cell_type": "code",
   "execution_count": 19,
   "id": "fe30b3fd",
   "metadata": {},
   "outputs": [
    {
     "data": {
      "text/plain": [
       "Index(['ID', 'Year_Birth', 'Education', 'Marital_Status', 'Income', 'Kidhome',\n",
       "       'Teenhome', 'Dt_Customer', 'Recency', 'MntWines', 'MntFruits',\n",
       "       'MntMeatProducts', 'MntFishProducts', 'MntSweetProducts',\n",
       "       'MntGoldProds', 'NumDealsPurchases', 'NumWebPurchases',\n",
       "       'NumCatalogPurchases', 'NumStorePurchases', 'NumWebVisitsMonth',\n",
       "       'AcceptedCmp3', 'AcceptedCmp4', 'AcceptedCmp5', 'AcceptedCmp1',\n",
       "       'AcceptedCmp2', 'Complain', 'Z_CostContact', 'Z_Revenue', 'Response',\n",
       "       'Age', 'Total_Children'],\n",
       "      dtype='object')"
      ]
     },
     "execution_count": 19,
     "metadata": {},
     "output_type": "execute_result"
    }
   ],
   "source": [
    "df.columns"
   ]
  },
  {
   "cell_type": "code",
   "execution_count": 20,
   "id": "44c8b9ac",
   "metadata": {},
   "outputs": [],
   "source": [
    "spend_cols=[\"MntWines\",\"MntFruits\",\"MntMeatProducts\",\"MntFishProducts\",\"MntSweetProducts\",\"MntGoldProds\"]"
   ]
  },
  {
   "cell_type": "code",
   "execution_count": 21,
   "id": "2828db42",
   "metadata": {},
   "outputs": [
    {
     "data": {
      "text/html": [
       "<div>\n",
       "<style scoped>\n",
       "    .dataframe tbody tr th:only-of-type {\n",
       "        vertical-align: middle;\n",
       "    }\n",
       "\n",
       "    .dataframe tbody tr th {\n",
       "        vertical-align: top;\n",
       "    }\n",
       "\n",
       "    .dataframe thead th {\n",
       "        text-align: right;\n",
       "    }\n",
       "</style>\n",
       "<table border=\"1\" class=\"dataframe\">\n",
       "  <thead>\n",
       "    <tr style=\"text-align: right;\">\n",
       "      <th></th>\n",
       "      <th>Total_Spending</th>\n",
       "    </tr>\n",
       "  </thead>\n",
       "  <tbody>\n",
       "    <tr>\n",
       "      <th>0</th>\n",
       "      <td>1617</td>\n",
       "    </tr>\n",
       "    <tr>\n",
       "      <th>1</th>\n",
       "      <td>27</td>\n",
       "    </tr>\n",
       "    <tr>\n",
       "      <th>2</th>\n",
       "      <td>776</td>\n",
       "    </tr>\n",
       "    <tr>\n",
       "      <th>3</th>\n",
       "      <td>53</td>\n",
       "    </tr>\n",
       "    <tr>\n",
       "      <th>4</th>\n",
       "      <td>422</td>\n",
       "    </tr>\n",
       "    <tr>\n",
       "      <th>...</th>\n",
       "      <td>...</td>\n",
       "    </tr>\n",
       "    <tr>\n",
       "      <th>2235</th>\n",
       "      <td>1341</td>\n",
       "    </tr>\n",
       "    <tr>\n",
       "      <th>2236</th>\n",
       "      <td>444</td>\n",
       "    </tr>\n",
       "    <tr>\n",
       "      <th>2237</th>\n",
       "      <td>1241</td>\n",
       "    </tr>\n",
       "    <tr>\n",
       "      <th>2238</th>\n",
       "      <td>843</td>\n",
       "    </tr>\n",
       "    <tr>\n",
       "      <th>2239</th>\n",
       "      <td>172</td>\n",
       "    </tr>\n",
       "  </tbody>\n",
       "</table>\n",
       "<p>2216 rows × 1 columns</p>\n",
       "</div>"
      ],
      "text/plain": [
       "      Total_Spending\n",
       "0               1617\n",
       "1                 27\n",
       "2                776\n",
       "3                 53\n",
       "4                422\n",
       "...              ...\n",
       "2235            1341\n",
       "2236             444\n",
       "2237            1241\n",
       "2238             843\n",
       "2239             172\n",
       "\n",
       "[2216 rows x 1 columns]"
      ]
     },
     "execution_count": 21,
     "metadata": {},
     "output_type": "execute_result"
    }
   ],
   "source": [
    "df[\"Total_Spending\"]=df[spend_cols].sum(axis=1)\n",
    "df[[\"Total_Spending\"]]"
   ]
  },
  {
   "cell_type": "code",
   "execution_count": 22,
   "id": "cddf1a20",
   "metadata": {},
   "outputs": [],
   "source": [
    "df[\"Customer_Since\"]=(pd.Timestamp(\"today\")-df[\"Dt_Customer\"]).dt.days"
   ]
  },
  {
   "cell_type": "code",
   "execution_count": 23,
   "id": "6d85dbf6",
   "metadata": {},
   "outputs": [
    {
     "data": {
      "text/plain": [
       "0       4804\n",
       "1       4254\n",
       "2       4453\n",
       "3       4280\n",
       "4       4302\n",
       "        ... \n",
       "2235    4522\n",
       "2236    4160\n",
       "2237    4296\n",
       "2238    4297\n",
       "2239    4763\n",
       "Name: Customer_Since, Length: 2216, dtype: int64"
      ]
     },
     "execution_count": 23,
     "metadata": {},
     "output_type": "execute_result"
    }
   ],
   "source": [
    "df[\"Customer_Since\"]"
   ]
  },
  {
   "cell_type": "code",
   "execution_count": 24,
   "id": "c718db2d",
   "metadata": {},
   "outputs": [
    {
     "data": {
      "image/png": "[encoded data removed]",
      "text/plain": [
       "<Figure size 640x480 with 1 Axes>"
      ]
     },
     "metadata": {},
     "output_type": "display_data"
    }
   ],
   "source": [
    "sns.histplot(df[\"Age\"], bins=30, kde=True)\n",
    "plt.title(\"Age Distribution\")\n",
    "plt.show()"
   ]
  },
  {
   "cell_type": "code",
   "execution_count": 25,
   "id": "b14f5286",
   "metadata": {},
   "outputs": [
    {
     "data": {
      "image/png": "[encoded data removed]",
      "text/plain": [
       "<Figure size 640x480 with 1 Axes>"
      ]
     },
     "metadata": {},
     "output_type": "display_data"
    }
   ],
   "source": [
    "sns.histplot(df[\"Income\"], bins=30, kde=True)\n",
    "plt.title(\"Income Distribution\")\n",
    "plt.show()"
   ]
  },
  {
   "cell_type": "code",
   "execution_count": 26,
   "id": "80afc40a",
   "metadata": {},
   "outputs": [
    {
     "data": {
      "image/png": "[encoded data removed]",
      "text/plain": [
       "<Figure size 640x480 with 1 Axes>"
      ]
     },
     "metadata": {},
     "output_type": "display_data"
    }
   ],
   "source": [
    "sns.histplot(df[\"Total_Spending\"], bins=30, kde=True)\n",
    "plt.title(\"Total Spending Distribution\")\n",
    "plt.show()"
   ]
  },
  {
   "cell_type": "code",
   "execution_count": 27,
   "id": "a1ee3959",
   "metadata": {},
   "outputs": [
    {
     "data": {
      "image/png": "[encoded data removed]",
      "text/plain": [
       "<Figure size 640x480 with 1 Axes>"
      ]
     },
     "metadata": {},
     "output_type": "display_data"
    }
   ],
   "source": [
    "sns.boxplot(x=\"Education\", y=\"Income\", data=df)\n",
    "plt.xticks(rotation =45)\n",
    "plt.title(\"Income by Education Level\")\n",
    "plt.show()"
   ]
  },
  {
   "cell_type": "code",
   "execution_count": 28,
   "id": "7d1a028f",
   "metadata": {},
   "outputs": [
    {
     "data": {
      "image/png": "[encoded data removed]",
      "text/plain": [
       "<Figure size 640x480 with 1 Axes>"
      ]
     },
     "metadata": {},
     "output_type": "display_data"
    }
   ],
   "source": [
    "sns.boxplot(x=\"Marital_Status\", y=\"Total_Spending\", data=df)\n",
    "plt.xticks(rotation =45)\n",
    "plt.title(\"Spending by Marital Status\")\n",
    "plt.show()"
   ]
  },
  {
   "cell_type": "code",
   "execution_count": 29,
   "id": "b94445be",
   "metadata": {},
   "outputs": [
    {
     "data": {
      "text/plain": [
       "Index(['ID', 'Year_Birth', 'Education', 'Marital_Status', 'Income', 'Kidhome',\n",
       "       'Teenhome', 'Dt_Customer', 'Recency', 'MntWines', 'MntFruits',\n",
       "       'MntMeatProducts', 'MntFishProducts', 'MntSweetProducts',\n",
       "       'MntGoldProds', 'NumDealsPurchases', 'NumWebPurchases',\n",
       "       'NumCatalogPurchases', 'NumStorePurchases', 'NumWebVisitsMonth',\n",
       "       'AcceptedCmp3', 'AcceptedCmp4', 'AcceptedCmp5', 'AcceptedCmp1',\n",
       "       'AcceptedCmp2', 'Complain', 'Z_CostContact', 'Z_Revenue', 'Response',\n",
       "       'Age', 'Total_Children', 'Total_Spending', 'Customer_Since'],\n",
       "      dtype='object')"
      ]
     },
     "execution_count": 29,
     "metadata": {},
     "output_type": "execute_result"
    }
   ],
   "source": [
    "df.columns"
   ]
  },
  {
   "cell_type": "code",
   "execution_count": 30,
   "id": "5309563a",
   "metadata": {},
   "outputs": [],
   "source": [
    "corr=df[[\"Income\",\"Age\",\"Recency\",\"Total_Spending\",\"NumWebPurchases\",\"NumStorePurchases\"]].corr()"
   ]
  },
  {
   "cell_type": "code",
   "execution_count": 31,
   "id": "dbefadec",
   "metadata": {},
   "outputs": [
    {
     "data": {
      "text/html": [
       "<div>\n",
       "<style scoped>\n",
       "    .dataframe tbody tr th:only-of-type {\n",
       "        vertical-align: middle;\n",
       "    }\n",
       "\n",
       "    .dataframe tbody tr th {\n",
       "        vertical-align: top;\n",
       "    }\n",
       "\n",
       "    .dataframe thead th {\n",
       "        text-align: right;\n",
       "    }\n",
       "</style>\n",
       "<table border=\"1\" class=\"dataframe\">\n",
       "  <thead>\n",
       "    <tr style=\"text-align: right;\">\n",
       "      <th></th>\n",
       "      <th>Income</th>\n",
       "      <th>Age</th>\n",
       "      <th>Recency</th>\n",
       "      <th>Total_Spending</th>\n",
       "      <th>NumWebPurchases</th>\n",
       "      <th>NumStorePurchases</th>\n",
       "    </tr>\n",
       "  </thead>\n",
       "  <tbody>\n",
       "    <tr>\n",
       "      <th>Income</th>\n",
       "      <td>1.000000</td>\n",
       "      <td>0.161791</td>\n",
       "      <td>-0.003970</td>\n",
       "      <td>0.667576</td>\n",
       "      <td>0.387878</td>\n",
       "      <td>0.529362</td>\n",
       "    </tr>\n",
       "    <tr>\n",
       "      <th>Age</th>\n",
       "      <td>0.161791</td>\n",
       "      <td>1.000000</td>\n",
       "      <td>0.016295</td>\n",
       "      <td>0.113487</td>\n",
       "      <td>0.153051</td>\n",
       "      <td>0.127891</td>\n",
       "    </tr>\n",
       "    <tr>\n",
       "      <th>Recency</th>\n",
       "      <td>-0.003970</td>\n",
       "      <td>0.016295</td>\n",
       "      <td>1.000000</td>\n",
       "      <td>0.020066</td>\n",
       "      <td>-0.005641</td>\n",
       "      <td>-0.000434</td>\n",
       "    </tr>\n",
       "    <tr>\n",
       "      <th>Total_Spending</th>\n",
       "      <td>0.667576</td>\n",
       "      <td>0.113487</td>\n",
       "      <td>0.020066</td>\n",
       "      <td>1.000000</td>\n",
       "      <td>0.528973</td>\n",
       "      <td>0.675181</td>\n",
       "    </tr>\n",
       "    <tr>\n",
       "      <th>NumWebPurchases</th>\n",
       "      <td>0.387878</td>\n",
       "      <td>0.153051</td>\n",
       "      <td>-0.005641</td>\n",
       "      <td>0.528973</td>\n",
       "      <td>1.000000</td>\n",
       "      <td>0.516240</td>\n",
       "    </tr>\n",
       "    <tr>\n",
       "      <th>NumStorePurchases</th>\n",
       "      <td>0.529362</td>\n",
       "      <td>0.127891</td>\n",
       "      <td>-0.000434</td>\n",
       "      <td>0.675181</td>\n",
       "      <td>0.516240</td>\n",
       "      <td>1.000000</td>\n",
       "    </tr>\n",
       "  </tbody>\n",
       "</table>\n",
       "</div>"
      ],
      "text/plain": [
       "                     Income       Age   Recency  Total_Spending  \\\n",
       "Income             1.000000  0.161791 -0.003970        0.667576   \n",
       "Age                0.161791  1.000000  0.016295        0.113487   \n",
       "Recency           -0.003970  0.016295  1.000000        0.020066   \n",
       "Total_Spending     0.667576  0.113487  0.020066        1.000000   \n",
       "NumWebPurchases    0.387878  0.153051 -0.005641        0.528973   \n",
       "NumStorePurchases  0.529362  0.127891 -0.000434        0.675181   \n",
       "\n",
       "                   NumWebPurchases  NumStorePurchases  \n",
       "Income                    0.387878           0.529362  \n",
       "Age                       0.153051           0.127891  \n",
       "Recency                  -0.005641          -0.000434  \n",
       "Total_Spending            0.528973           0.675181  \n",
       "NumWebPurchases           1.000000           0.516240  \n",
       "NumStorePurchases         0.516240           1.000000  "
      ]
     },
     "execution_count": 31,
     "metadata": {},
     "output_type": "execute_result"
    }
   ],
   "source": [
    "corr"
   ]
  },
  {
   "cell_type": "code",
   "execution_count": 32,
   "id": "afe6f651",
   "metadata": {},
   "outputs": [
    {
     "data": {
      "image/png": "[encoded data removed]",
      "text/plain": [
       "<Figure size 640x480 with 2 Axes>"
      ]
     },
     "metadata": {},
     "output_type": "display_data"
    }
   ],
   "source": [
    "sns.heatmap(corr, annot=True, cmap=\"coolwarm\")\n",
    "plt.title(\"Correlation Matrix\")\n",
    "plt.show()"
   ]
  },
  {
   "cell_type": "code",
   "execution_count": 33,
   "id": "16cfb4aa",
   "metadata": {},
   "outputs": [],
   "source": [
    "pivot_income=df.pivot_table(values=\"Income\",index=\"Education\", columns=\"Marital_Status\",aggfunc=\"mean\")"
   ]
  },
  {
   "cell_type": "code",
   "execution_count": 34,
   "id": "519afe02",
   "metadata": {},
   "outputs": [
    {
     "data": {
      "text/html": [
       "<div>\n",
       "<style scoped>\n",
       "    .dataframe tbody tr th:only-of-type {\n",
       "        vertical-align: middle;\n",
       "    }\n",
       "\n",
       "    .dataframe tbody tr th {\n",
       "        vertical-align: top;\n",
       "    }\n",
       "\n",
       "    .dataframe thead th {\n",
       "        text-align: right;\n",
       "    }\n",
       "</style>\n",
       "<table border=\"1\" class=\"dataframe\">\n",
       "  <thead>\n",
       "    <tr style=\"text-align: right;\">\n",
       "      <th>Marital_Status</th>\n",
       "      <th>Absurd</th>\n",
       "      <th>Alone</th>\n",
       "      <th>Divorced</th>\n",
       "      <th>Married</th>\n",
       "      <th>Single</th>\n",
       "      <th>Together</th>\n",
       "      <th>Widow</th>\n",
       "      <th>YOLO</th>\n",
       "    </tr>\n",
       "    <tr>\n",
       "      <th>Education</th>\n",
       "      <th></th>\n",
       "      <th></th>\n",
       "      <th></th>\n",
       "      <th></th>\n",
       "      <th></th>\n",
       "      <th></th>\n",
       "      <th></th>\n",
       "      <th></th>\n",
       "    </tr>\n",
       "  </thead>\n",
       "  <tbody>\n",
       "    <tr>\n",
       "      <th>2n Cycle</th>\n",
       "      <td>NaN</td>\n",
       "      <td>NaN</td>\n",
       "      <td>49395.130435</td>\n",
       "      <td>46201.100000</td>\n",
       "      <td>53673.944444</td>\n",
       "      <td>44736.410714</td>\n",
       "      <td>51392.200000</td>\n",
       "      <td>NaN</td>\n",
       "    </tr>\n",
       "    <tr>\n",
       "      <th>Basic</th>\n",
       "      <td>NaN</td>\n",
       "      <td>NaN</td>\n",
       "      <td>9548.000000</td>\n",
       "      <td>21960.500000</td>\n",
       "      <td>18238.666667</td>\n",
       "      <td>21240.071429</td>\n",
       "      <td>22123.000000</td>\n",
       "      <td>NaN</td>\n",
       "    </tr>\n",
       "    <tr>\n",
       "      <th>Graduation</th>\n",
       "      <td>79244.0</td>\n",
       "      <td>34176.0</td>\n",
       "      <td>54526.042017</td>\n",
       "      <td>50800.258741</td>\n",
       "      <td>51322.182927</td>\n",
       "      <td>55758.480702</td>\n",
       "      <td>54976.657143</td>\n",
       "      <td>NaN</td>\n",
       "    </tr>\n",
       "    <tr>\n",
       "      <th>Master</th>\n",
       "      <td>65487.0</td>\n",
       "      <td>61331.0</td>\n",
       "      <td>50331.945946</td>\n",
       "      <td>53286.028986</td>\n",
       "      <td>53530.560000</td>\n",
       "      <td>52109.009804</td>\n",
       "      <td>58401.545455</td>\n",
       "      <td>NaN</td>\n",
       "    </tr>\n",
       "    <tr>\n",
       "      <th>PhD</th>\n",
       "      <td>NaN</td>\n",
       "      <td>35860.0</td>\n",
       "      <td>53096.615385</td>\n",
       "      <td>58138.031579</td>\n",
       "      <td>53314.614583</td>\n",
       "      <td>56041.422414</td>\n",
       "      <td>60288.083333</td>\n",
       "      <td>48432.0</td>\n",
       "    </tr>\n",
       "  </tbody>\n",
       "</table>\n",
       "</div>"
      ],
      "text/plain": [
       "Marital_Status   Absurd    Alone      Divorced       Married        Single  \\\n",
       "Education                                                                    \n",
       "2n Cycle            NaN      NaN  49395.130435  46201.100000  53673.944444   \n",
       "Basic               NaN      NaN   9548.000000  21960.500000  18238.666667   \n",
       "Graduation      79244.0  34176.0  54526.042017  50800.258741  51322.182927   \n",
       "Master          65487.0  61331.0  50331.945946  53286.028986  53530.560000   \n",
       "PhD                 NaN  35860.0  53096.615385  58138.031579  53314.614583   \n",
       "\n",
       "Marital_Status      Together         Widow     YOLO  \n",
       "Education                                            \n",
       "2n Cycle        44736.410714  51392.200000      NaN  \n",
       "Basic           21240.071429  22123.000000      NaN  \n",
       "Graduation      55758.480702  54976.657143      NaN  \n",
       "Master          52109.009804  58401.545455      NaN  \n",
       "PhD             56041.422414  60288.083333  48432.0  "
      ]
     },
     "execution_count": 34,
     "metadata": {},
     "output_type": "execute_result"
    }
   ],
   "source": [
    "pivot_income"
   ]
  },
  {
   "cell_type": "code",
   "execution_count": 35,
   "id": "8d7f121a",
   "metadata": {},
   "outputs": [
    {
     "data": {
      "text/plain": [
       "Text(0.5, 1.0, 'Average Income by Education and Marital Status')"
      ]
     },
     "execution_count": 35,
     "metadata": {},
     "output_type": "execute_result"
    },
    {
     "data": {
      "image/png": "[encoded data removed]",
      "text/plain": [
       "<Figure size 640x480 with 2 Axes>"
      ]
     },
     "metadata": {},
     "output_type": "display_data"
    }
   ],
   "source": [
    "sns.heatmap(pivot_income, annot=True, fmt=\".0f\", cmap=\"YlGnBu\")\n",
    "plt.title(\"Average Income by Education and Marital Status\")"
   ]
  },
  {
   "cell_type": "code",
   "execution_count": 36,
   "id": "ce699fb2",
   "metadata": {},
   "outputs": [],
   "source": [
    "group1 = df.groupby(\"Education\")[\"Total_Spending\"].mean().sort_values(ascending=False)"
   ]
  },
  {
   "cell_type": "code",
   "execution_count": 37,
   "id": "fbfc9dab",
   "metadata": {},
   "outputs": [
    {
     "data": {
      "text/plain": [
       "Education\n",
       "PhD           676.733888\n",
       "Graduation    621.686380\n",
       "Master        609.767123\n",
       "2n Cycle      494.930000\n",
       "Basic          81.796296\n",
       "Name: Total_Spending, dtype: float64"
      ]
     },
     "execution_count": 37,
     "metadata": {},
     "output_type": "execute_result"
    }
   ],
   "source": [
    "group1"
   ]
  },
  {
   "cell_type": "code",
   "execution_count": 38,
   "id": "3dbc6cef",
   "metadata": {},
   "outputs": [
    {
     "data": {
      "text/plain": [
       "(array([0, 1, 2, 3, 4]),\n",
       " [Text(0, 0, 'PhD'),\n",
       "  Text(1, 0, 'Graduation'),\n",
       "  Text(2, 0, 'Master'),\n",
       "  Text(3, 0, '2n Cycle'),\n",
       "  Text(4, 0, 'Basic')])"
      ]
     },
     "execution_count": 38,
     "metadata": {},
     "output_type": "execute_result"
    },
    {
     "data": {
      "image/png": "[encoded data removed]",
      "text/plain": [
       "<Figure size 640x480 with 1 Axes>"
      ]
     },
     "metadata": {},
     "output_type": "display_data"
    }
   ],
   "source": [
    "group1.plot(kind=\"bar\", color=\"skyblue\")\n",
    "plt.title(\"Average Spending by Education\")\n",
    "plt.ylabel(\"Average Total Spending\")\n",
    "plt.xticks(rotation=45)"
   ]
  },
  {
   "cell_type": "code",
   "execution_count": 39,
   "id": "b7945a60",
   "metadata": {},
   "outputs": [],
   "source": [
    "df[\"AcceptedAny\"]=df[[\"AcceptedCmp1\",\"AcceptedCmp2\",\"AcceptedCmp3\",\"AcceptedCmp4\",\"AcceptedCmp5\",\"Response\"]].sum(axis = 1)"
   ]
  },
  {
   "cell_type": "code",
   "execution_count": 40,
   "id": "4430ca5b",
   "metadata": {},
   "outputs": [
    {
     "data": {
      "text/plain": [
       "array([1, 0, 3, 2, 4, 5])"
      ]
     },
     "execution_count": 40,
     "metadata": {},
     "output_type": "execute_result"
    }
   ],
   "source": [
    "df[\"AcceptedAny\"].unique()"
   ]
  },
  {
   "cell_type": "code",
   "execution_count": 41,
   "id": "20a5b86a",
   "metadata": {},
   "outputs": [
    {
     "data": {
      "text/plain": [
       "array([1, 0, 3, 2, 4, 5])"
      ]
     },
     "execution_count": 41,
     "metadata": {},
     "output_type": "execute_result"
    }
   ],
   "source": [
    "df[\"AcceptedAny\"].unique()"
   ]
  },
  {
   "cell_type": "code",
   "execution_count": 42,
   "id": "b56d02d2",
   "metadata": {},
   "outputs": [],
   "source": [
    "group2 = df.groupby(\"Marital_Status\")[\"AcceptedAny\"].mean().sort_values(ascending=False)"
   ]
  },
  {
   "cell_type": "code",
   "execution_count": 43,
   "id": "f33dec20",
   "metadata": {},
   "outputs": [
    {
     "data": {
      "text/plain": [
       "Marital_Status\n",
       "Absurd      1.500000\n",
       "Alone       0.666667\n",
       "Widow       0.592105\n",
       "Single      0.513800\n",
       "YOLO        0.500000\n",
       "Divorced    0.500000\n",
       "Married     0.417736\n",
       "Together    0.396161\n",
       "Name: AcceptedAny, dtype: float64"
      ]
     },
     "execution_count": 43,
     "metadata": {},
     "output_type": "execute_result"
    }
   ],
   "source": [
    "group2"
   ]
  },
  {
   "cell_type": "code",
   "execution_count": 44,
   "id": "d06f500f",
   "metadata": {},
   "outputs": [
    {
     "data": {
      "image/png": "[encoded data removed]",
      "text/plain": [
       "<Figure size 640x480 with 1 Axes>"
      ]
     },
     "metadata": {},
     "output_type": "display_data"
    }
   ],
   "source": [
    "group2.plot(kind=\"bar\", color=\"red\")\n",
    "plt.title(\"Campaign Acceptance Rate by Marital Status\")\n",
    "plt.ylabel(\"Acceptance Rate\")\n",
    "plt.xticks(rotation=45)\n",
    "plt.show()"
   ]
  },
  {
   "cell_type": "code",
   "execution_count": 45,
   "id": "e227d7be",
   "metadata": {},
   "outputs": [],
   "source": [
    "bins =[18, 30, 40, 50, 60, 70, 90]\n"
   ]
  },
  {
   "cell_type": "code",
   "execution_count": 46,
   "id": "ef93de4d",
   "metadata": {},
   "outputs": [],
   "source": [
    "labels=[\"18-29\", \"30-39\",\"40-49\",\"50-59\",\"60-69\",\"70+\"]"
   ]
  },
  {
   "cell_type": "code",
   "execution_count": 47,
   "id": "b0d753ca",
   "metadata": {},
   "outputs": [],
   "source": [
    "df[\"AgeGroup\"]= pd.cut(df[\"Age\"],bins=bins,labels=labels)"
   ]
  },
  {
   "cell_type": "code",
   "execution_count": 48,
   "id": "929fc599",
   "metadata": {},
   "outputs": [
    {
     "data": {
      "text/plain": [
       "0       60-69\n",
       "1         70+\n",
       "2       50-59\n",
       "3       40-49\n",
       "4       40-49\n",
       "        ...  \n",
       "2235    50-59\n",
       "2236      70+\n",
       "2237    40-49\n",
       "2238    60-69\n",
       "2239      70+\n",
       "Name: AgeGroup, Length: 2216, dtype: category\n",
       "Categories (6, object): ['18-29' < '30-39' < '40-49' < '50-59' < '60-69' < '70+']"
      ]
     },
     "execution_count": 48,
     "metadata": {},
     "output_type": "execute_result"
    }
   ],
   "source": [
    "df[\"AgeGroup\"]"
   ]
  },
  {
   "cell_type": "code",
   "execution_count": 49,
   "id": "980ff969",
   "metadata": {},
   "outputs": [
    {
     "name": "stderr",
     "output_type": "stream",
     "text": [
      "C:\\Users\\jainp\\AppData\\Local\\Temp\\ipykernel_24528\\3195967181.py:1: FutureWarning: The default of observed=False is deprecated and will be changed to True in a future version of pandas. Pass observed=False to retain current behavior or observed=True to adopt the future default and silence this warning.\n",
      "  group3= df.groupby(\"AgeGroup\")[\"Income\"].mean()\n"
     ]
    }
   ],
   "source": [
    "group3= df.groupby(\"AgeGroup\")[\"Income\"].mean()"
   ]
  },
  {
   "cell_type": "code",
   "execution_count": 50,
   "id": "96a157f3",
   "metadata": {},
   "outputs": [
    {
     "data": {
      "text/plain": [
       "AgeGroup\n",
       "18-29    46658.000000\n",
       "30-39    46283.028302\n",
       "40-49    49224.877034\n",
       "50-59    50812.913303\n",
       "60-69    56200.827887\n",
       "70+      58944.316294\n",
       "Name: Income, dtype: float64"
      ]
     },
     "execution_count": 50,
     "metadata": {},
     "output_type": "execute_result"
    }
   ],
   "source": [
    "group3"
   ]
  },
  {
   "cell_type": "code",
   "execution_count": 51,
   "id": "2e82e110",
   "metadata": {},
   "outputs": [
    {
     "data": {
      "image/png": "[encoded data removed]",
      "text/plain": [
       "<Figure size 640x480 with 1 Axes>"
      ]
     },
     "metadata": {},
     "output_type": "display_data"
    }
   ],
   "source": [
    "group3.plot(kind=\"barh\", color=\"pink\")\n",
    "plt.title(\"Average Income by Age Group\")\n",
    "plt.ylabel(\"AgeGroup\")\n",
    "plt.xticks(rotation=45)\n",
    "plt.show()"
   ]
  },
  {
   "cell_type": "code",
   "execution_count": 52,
   "id": "ed182e28",
   "metadata": {},
   "outputs": [
    {
     "data": {
      "text/plain": [
       "Index(['ID', 'Year_Birth', 'Education', 'Marital_Status', 'Income', 'Kidhome',\n",
       "       'Teenhome', 'Dt_Customer', 'Recency', 'MntWines', 'MntFruits',\n",
       "       'MntMeatProducts', 'MntFishProducts', 'MntSweetProducts',\n",
       "       'MntGoldProds', 'NumDealsPurchases', 'NumWebPurchases',\n",
       "       'NumCatalogPurchases', 'NumStorePurchases', 'NumWebVisitsMonth',\n",
       "       'AcceptedCmp3', 'AcceptedCmp4', 'AcceptedCmp5', 'AcceptedCmp1',\n",
       "       'AcceptedCmp2', 'Complain', 'Z_CostContact', 'Z_Revenue', 'Response',\n",
       "       'Age', 'Total_Children', 'Total_Spending', 'Customer_Since',\n",
       "       'AcceptedAny', 'AgeGroup'],\n",
       "      dtype='object')"
      ]
     },
     "execution_count": 52,
     "metadata": {},
     "output_type": "execute_result"
    }
   ],
   "source": [
    "df.columns"
   ]
  },
  {
   "cell_type": "code",
   "execution_count": 53,
   "id": "d6b7648f",
   "metadata": {},
   "outputs": [],
   "source": [
    "features=[\"Age\",\"Income\",\"Total_Spending\",\"NumWebPurchases\",\"NumStorePurchases\",\"NumWebVisitsMonth\"]"
   ]
  },
  {
   "cell_type": "code",
   "execution_count": 54,
   "id": "c7ae9b3a",
   "metadata": {},
   "outputs": [],
   "source": [
    "X = df[features].copy()"
   ]
  },
  {
   "cell_type": "code",
   "execution_count": 55,
   "id": "9ac72e6b",
   "metadata": {},
   "outputs": [
    {
     "data": {
      "text/html": [
       "<div>\n",
       "<style scoped>\n",
       "    .dataframe tbody tr th:only-of-type {\n",
       "        vertical-align: middle;\n",
       "    }\n",
       "\n",
       "    .dataframe tbody tr th {\n",
       "        vertical-align: top;\n",
       "    }\n",
       "\n",
       "    .dataframe thead th {\n",
       "        text-align: right;\n",
       "    }\n",
       "</style>\n",
       "<table border=\"1\" class=\"dataframe\">\n",
       "  <thead>\n",
       "    <tr style=\"text-align: right;\">\n",
       "      <th></th>\n",
       "      <th>Age</th>\n",
       "      <th>Income</th>\n",
       "      <th>Total_Spending</th>\n",
       "      <th>NumWebPurchases</th>\n",
       "      <th>NumStorePurchases</th>\n",
       "      <th>NumWebVisitsMonth</th>\n",
       "    </tr>\n",
       "  </thead>\n",
       "  <tbody>\n",
       "    <tr>\n",
       "      <th>0</th>\n",
       "      <td>68</td>\n",
       "      <td>58138.0</td>\n",
       "      <td>1617</td>\n",
       "      <td>8</td>\n",
       "      <td>4</td>\n",
       "      <td>7</td>\n",
       "    </tr>\n",
       "    <tr>\n",
       "      <th>1</th>\n",
       "      <td>71</td>\n",
       "      <td>46344.0</td>\n",
       "      <td>27</td>\n",
       "      <td>1</td>\n",
       "      <td>2</td>\n",
       "      <td>5</td>\n",
       "    </tr>\n",
       "    <tr>\n",
       "      <th>2</th>\n",
       "      <td>60</td>\n",
       "      <td>71613.0</td>\n",
       "      <td>776</td>\n",
       "      <td>8</td>\n",
       "      <td>10</td>\n",
       "      <td>4</td>\n",
       "    </tr>\n",
       "    <tr>\n",
       "      <th>3</th>\n",
       "      <td>41</td>\n",
       "      <td>26646.0</td>\n",
       "      <td>53</td>\n",
       "      <td>2</td>\n",
       "      <td>4</td>\n",
       "      <td>6</td>\n",
       "    </tr>\n",
       "    <tr>\n",
       "      <th>4</th>\n",
       "      <td>44</td>\n",
       "      <td>58293.0</td>\n",
       "      <td>422</td>\n",
       "      <td>5</td>\n",
       "      <td>6</td>\n",
       "      <td>5</td>\n",
       "    </tr>\n",
       "    <tr>\n",
       "      <th>...</th>\n",
       "      <td>...</td>\n",
       "      <td>...</td>\n",
       "      <td>...</td>\n",
       "      <td>...</td>\n",
       "      <td>...</td>\n",
       "      <td>...</td>\n",
       "    </tr>\n",
       "    <tr>\n",
       "      <th>2235</th>\n",
       "      <td>58</td>\n",
       "      <td>61223.0</td>\n",
       "      <td>1341</td>\n",
       "      <td>9</td>\n",
       "      <td>4</td>\n",
       "      <td>5</td>\n",
       "    </tr>\n",
       "    <tr>\n",
       "      <th>2236</th>\n",
       "      <td>79</td>\n",
       "      <td>64014.0</td>\n",
       "      <td>444</td>\n",
       "      <td>8</td>\n",
       "      <td>5</td>\n",
       "      <td>7</td>\n",
       "    </tr>\n",
       "    <tr>\n",
       "      <th>2237</th>\n",
       "      <td>44</td>\n",
       "      <td>56981.0</td>\n",
       "      <td>1241</td>\n",
       "      <td>2</td>\n",
       "      <td>13</td>\n",
       "      <td>6</td>\n",
       "    </tr>\n",
       "    <tr>\n",
       "      <th>2238</th>\n",
       "      <td>69</td>\n",
       "      <td>69245.0</td>\n",
       "      <td>843</td>\n",
       "      <td>6</td>\n",
       "      <td>10</td>\n",
       "      <td>3</td>\n",
       "    </tr>\n",
       "    <tr>\n",
       "      <th>2239</th>\n",
       "      <td>71</td>\n",
       "      <td>52869.0</td>\n",
       "      <td>172</td>\n",
       "      <td>3</td>\n",
       "      <td>4</td>\n",
       "      <td>7</td>\n",
       "    </tr>\n",
       "  </tbody>\n",
       "</table>\n",
       "<p>2216 rows × 6 columns</p>\n",
       "</div>"
      ],
      "text/plain": [
       "      Age   Income  Total_Spending  NumWebPurchases  NumStorePurchases  \\\n",
       "0      68  58138.0            1617                8                  4   \n",
       "1      71  46344.0              27                1                  2   \n",
       "2      60  71613.0             776                8                 10   \n",
       "3      41  26646.0              53                2                  4   \n",
       "4      44  58293.0             422                5                  6   \n",
       "...   ...      ...             ...              ...                ...   \n",
       "2235   58  61223.0            1341                9                  4   \n",
       "2236   79  64014.0             444                8                  5   \n",
       "2237   44  56981.0            1241                2                 13   \n",
       "2238   69  69245.0             843                6                 10   \n",
       "2239   71  52869.0             172                3                  4   \n",
       "\n",
       "      NumWebVisitsMonth  \n",
       "0                     7  \n",
       "1                     5  \n",
       "2                     4  \n",
       "3                     6  \n",
       "4                     5  \n",
       "...                 ...  \n",
       "2235                  5  \n",
       "2236                  7  \n",
       "2237                  6  \n",
       "2238                  3  \n",
       "2239                  7  \n",
       "\n",
       "[2216 rows x 6 columns]"
      ]
     },
     "execution_count": 55,
     "metadata": {},
     "output_type": "execute_result"
    }
   ],
   "source": [
    "X"
   ]
  },
  {
   "cell_type": "code",
   "execution_count": 56,
   "id": "3c4229dd",
   "metadata": {},
   "outputs": [],
   "source": [
    "from sklearn.preprocessing import StandardScaler\n",
    "scaler=StandardScaler()"
   ]
  },
  {
   "cell_type": "code",
   "execution_count": 57,
   "id": "d8d11704",
   "metadata": {},
   "outputs": [],
   "source": [
    "X_scaled = scaler .fit_transform(X)"
   ]
  },
  {
   "cell_type": "code",
   "execution_count": 58,
   "id": "a4ff8044",
   "metadata": {},
   "outputs": [
    {
     "data": {
      "text/plain": [
       "array([[ 0.98644293,  0.2340627 ,  1.67548812,  1.42855332, -0.55414289,\n",
       "         0.69323197],\n",
       "       [ 1.23680074, -0.23455948, -0.96235832, -1.12588116, -1.16951781,\n",
       "        -0.1315745 ],\n",
       "       [ 0.31882209,  0.76947764,  0.28024985,  1.42855332,  1.29198186,\n",
       "        -0.54397773],\n",
       "       ...,\n",
       "       [-1.01641959,  0.18809052,  1.05169551, -0.76096195,  2.21504423,\n",
       "         0.28082874],\n",
       "       [ 1.06989553,  0.67538765,  0.39140438,  0.6987149 ,  1.29198186,\n",
       "        -0.95638097],\n",
       "       [ 1.23680074,  0.02470453, -0.7218    , -0.39604274, -0.55414289,\n",
       "         0.69323197]], shape=(2216, 6))"
      ]
     },
     "execution_count": 58,
     "metadata": {},
     "output_type": "execute_result"
    }
   ],
   "source": [
    "X_scaled"
   ]
  },
  {
   "cell_type": "code",
   "execution_count": 59,
   "id": "f3a57dda",
   "metadata": {},
   "outputs": [],
   "source": [
    "from sklearn.cluster import KMeans\n"
   ]
  },
  {
   "cell_type": "code",
   "execution_count": 60,
   "id": "fc5d5324",
   "metadata": {},
   "outputs": [],
   "source": [
    "wcss =[]"
   ]
  },
  {
   "cell_type": "code",
   "execution_count": 61,
   "id": "84af8bd1",
   "metadata": {},
   "outputs": [],
   "source": [
    "for i in range(2,10):\n",
    "  kmeans=KMeans(n_clusters=i)\n",
    "  kmeans.fit(X_scaled)\n",
    "  wcss.append(kmeans.inertia_)"
   ]
  },
  {
   "cell_type": "code",
   "execution_count": 62,
   "id": "d2bb8620",
   "metadata": {},
   "outputs": [
    {
     "data": {
      "text/plain": [
       "[8003.055217364744,\n",
       " 6798.5170065041575,\n",
       " 6048.888383541813,\n",
       " 5487.493835270345,\n",
       " 5127.3948238572,\n",
       " 4977.501491654807,\n",
       " 4320.508112635104,\n",
       " 4084.3122861405463]"
      ]
     },
     "execution_count": 62,
     "metadata": {},
     "output_type": "execute_result"
    }
   ],
   "source": [
    "wcss"
   ]
  },
  {
   "cell_type": "code",
   "execution_count": 63,
   "id": "9671ab01",
   "metadata": {},
   "outputs": [
    {
     "data": {
      "image/png": "[encoded data removed]",
      "text/plain": [
       "<Figure size 640x480 with 1 Axes>"
      ]
     },
     "metadata": {},
     "output_type": "display_data"
    }
   ],
   "source": [
    "plt.plot(range(2,10),wcss, marker=\"o\")\n",
    "plt.title(\"Elbow Method for Optimal K\")\n",
    "plt.xlabel(\"Number of Clusters\")\n",
    "plt.ylabel(\"wcss\")\n",
    "plt.show()"
   ]
  },
  {
   "cell_type": "code",
   "execution_count": 64,
   "id": "672ba1b3",
   "metadata": {},
   "outputs": [],
   "source": [
    "kmeans= KMeans(n_clusters=6)\n",
    "df[\"Cluster\"]=kmeans.fit_predict(X_scaled)"
   ]
  },
  {
   "cell_type": "code",
   "execution_count": 65,
   "id": "f50a7058",
   "metadata": {},
   "outputs": [
    {
     "data": {
      "text/plain": [
       "0       1\n",
       "1       4\n",
       "2       1\n",
       "3       2\n",
       "4       5\n",
       "       ..\n",
       "2235    1\n",
       "2236    5\n",
       "2237    3\n",
       "2238    0\n",
       "2239    4\n",
       "Name: Cluster, Length: 2216, dtype: int32"
      ]
     },
     "execution_count": 65,
     "metadata": {},
     "output_type": "execute_result"
    }
   ],
   "source": [
    "df[\"Cluster\"]"
   ]
  },
  {
   "cell_type": "code",
   "execution_count": 66,
   "id": "df921c0f",
   "metadata": {},
   "outputs": [
    {
     "data": {
      "text/html": [
       "<div>\n",
       "<style scoped>\n",
       "    .dataframe tbody tr th:only-of-type {\n",
       "        vertical-align: middle;\n",
       "    }\n",
       "\n",
       "    .dataframe tbody tr th {\n",
       "        vertical-align: top;\n",
       "    }\n",
       "\n",
       "    .dataframe thead th {\n",
       "        text-align: right;\n",
       "    }\n",
       "</style>\n",
       "<table border=\"1\" class=\"dataframe\">\n",
       "  <thead>\n",
       "    <tr style=\"text-align: right;\">\n",
       "      <th></th>\n",
       "      <th>ID</th>\n",
       "      <th>Year_Birth</th>\n",
       "      <th>Education</th>\n",
       "      <th>Marital_Status</th>\n",
       "      <th>Income</th>\n",
       "      <th>Kidhome</th>\n",
       "      <th>Teenhome</th>\n",
       "      <th>Dt_Customer</th>\n",
       "      <th>Recency</th>\n",
       "      <th>MntWines</th>\n",
       "      <th>...</th>\n",
       "      <th>Z_CostContact</th>\n",
       "      <th>Z_Revenue</th>\n",
       "      <th>Response</th>\n",
       "      <th>Age</th>\n",
       "      <th>Total_Children</th>\n",
       "      <th>Total_Spending</th>\n",
       "      <th>Customer_Since</th>\n",
       "      <th>AcceptedAny</th>\n",
       "      <th>AgeGroup</th>\n",
       "      <th>Cluster</th>\n",
       "    </tr>\n",
       "  </thead>\n",
       "  <tbody>\n",
       "    <tr>\n",
       "      <th>0</th>\n",
       "      <td>5524</td>\n",
       "      <td>1957</td>\n",
       "      <td>Graduation</td>\n",
       "      <td>Single</td>\n",
       "      <td>58138.0</td>\n",
       "      <td>0</td>\n",
       "      <td>0</td>\n",
       "      <td>2012-09-04</td>\n",
       "      <td>58</td>\n",
       "      <td>635</td>\n",
       "      <td>...</td>\n",
       "      <td>3</td>\n",
       "      <td>11</td>\n",
       "      <td>1</td>\n",
       "      <td>68</td>\n",
       "      <td>0</td>\n",
       "      <td>1617</td>\n",
       "      <td>4804</td>\n",
       "      <td>1</td>\n",
       "      <td>60-69</td>\n",
       "      <td>1</td>\n",
       "    </tr>\n",
       "    <tr>\n",
       "      <th>1</th>\n",
       "      <td>2174</td>\n",
       "      <td>1954</td>\n",
       "      <td>Graduation</td>\n",
       "      <td>Single</td>\n",
       "      <td>46344.0</td>\n",
       "      <td>1</td>\n",
       "      <td>1</td>\n",
       "      <td>2014-03-08</td>\n",
       "      <td>38</td>\n",
       "      <td>11</td>\n",
       "      <td>...</td>\n",
       "      <td>3</td>\n",
       "      <td>11</td>\n",
       "      <td>0</td>\n",
       "      <td>71</td>\n",
       "      <td>2</td>\n",
       "      <td>27</td>\n",
       "      <td>4254</td>\n",
       "      <td>0</td>\n",
       "      <td>70+</td>\n",
       "      <td>4</td>\n",
       "    </tr>\n",
       "    <tr>\n",
       "      <th>2</th>\n",
       "      <td>4141</td>\n",
       "      <td>1965</td>\n",
       "      <td>Graduation</td>\n",
       "      <td>Together</td>\n",
       "      <td>71613.0</td>\n",
       "      <td>0</td>\n",
       "      <td>0</td>\n",
       "      <td>2013-08-21</td>\n",
       "      <td>26</td>\n",
       "      <td>426</td>\n",
       "      <td>...</td>\n",
       "      <td>3</td>\n",
       "      <td>11</td>\n",
       "      <td>0</td>\n",
       "      <td>60</td>\n",
       "      <td>0</td>\n",
       "      <td>776</td>\n",
       "      <td>4453</td>\n",
       "      <td>0</td>\n",
       "      <td>50-59</td>\n",
       "      <td>1</td>\n",
       "    </tr>\n",
       "    <tr>\n",
       "      <th>3</th>\n",
       "      <td>6182</td>\n",
       "      <td>1984</td>\n",
       "      <td>Graduation</td>\n",
       "      <td>Together</td>\n",
       "      <td>26646.0</td>\n",
       "      <td>1</td>\n",
       "      <td>0</td>\n",
       "      <td>2014-02-10</td>\n",
       "      <td>26</td>\n",
       "      <td>11</td>\n",
       "      <td>...</td>\n",
       "      <td>3</td>\n",
       "      <td>11</td>\n",
       "      <td>0</td>\n",
       "      <td>41</td>\n",
       "      <td>1</td>\n",
       "      <td>53</td>\n",
       "      <td>4280</td>\n",
       "      <td>0</td>\n",
       "      <td>40-49</td>\n",
       "      <td>2</td>\n",
       "    </tr>\n",
       "    <tr>\n",
       "      <th>4</th>\n",
       "      <td>5324</td>\n",
       "      <td>1981</td>\n",
       "      <td>PhD</td>\n",
       "      <td>Married</td>\n",
       "      <td>58293.0</td>\n",
       "      <td>1</td>\n",
       "      <td>0</td>\n",
       "      <td>2014-01-19</td>\n",
       "      <td>94</td>\n",
       "      <td>173</td>\n",
       "      <td>...</td>\n",
       "      <td>3</td>\n",
       "      <td>11</td>\n",
       "      <td>0</td>\n",
       "      <td>44</td>\n",
       "      <td>1</td>\n",
       "      <td>422</td>\n",
       "      <td>4302</td>\n",
       "      <td>0</td>\n",
       "      <td>40-49</td>\n",
       "      <td>5</td>\n",
       "    </tr>\n",
       "  </tbody>\n",
       "</table>\n",
       "<p>5 rows × 36 columns</p>\n",
       "</div>"
      ],
      "text/plain": [
       "     ID  Year_Birth   Education Marital_Status   Income  Kidhome  Teenhome  \\\n",
       "0  5524        1957  Graduation         Single  58138.0        0         0   \n",
       "1  2174        1954  Graduation         Single  46344.0        1         1   \n",
       "2  4141        1965  Graduation       Together  71613.0        0         0   \n",
       "3  6182        1984  Graduation       Together  26646.0        1         0   \n",
       "4  5324        1981         PhD        Married  58293.0        1         0   \n",
       "\n",
       "  Dt_Customer  Recency  MntWines  ...  Z_CostContact  Z_Revenue  Response  \\\n",
       "0  2012-09-04       58       635  ...              3         11         1   \n",
       "1  2014-03-08       38        11  ...              3         11         0   \n",
       "2  2013-08-21       26       426  ...              3         11         0   \n",
       "3  2014-02-10       26        11  ...              3         11         0   \n",
       "4  2014-01-19       94       173  ...              3         11         0   \n",
       "\n",
       "   Age  Total_Children  Total_Spending  Customer_Since  AcceptedAny  AgeGroup  \\\n",
       "0   68               0            1617            4804            1     60-69   \n",
       "1   71               2              27            4254            0       70+   \n",
       "2   60               0             776            4453            0     50-59   \n",
       "3   41               1              53            4280            0     40-49   \n",
       "4   44               1             422            4302            0     40-49   \n",
       "\n",
       "   Cluster  \n",
       "0        1  \n",
       "1        4  \n",
       "2        1  \n",
       "3        2  \n",
       "4        5  \n",
       "\n",
       "[5 rows x 36 columns]"
      ]
     },
     "execution_count": 66,
     "metadata": {},
     "output_type": "execute_result"
    }
   ],
   "source": [
    "df.head()"
   ]
  },
  {
   "cell_type": "code",
   "execution_count": 67,
   "id": "c205ab4f",
   "metadata": {},
   "outputs": [],
   "source": [
    "cluster_summary = df.groupby(\"Cluster\")[features].mean()"
   ]
  },
  {
   "cell_type": "code",
   "execution_count": 68,
   "id": "04693580",
   "metadata": {},
   "outputs": [
    {
     "data": {
      "text/html": [
       "<div>\n",
       "<style scoped>\n",
       "    .dataframe tbody tr th:only-of-type {\n",
       "        vertical-align: middle;\n",
       "    }\n",
       "\n",
       "    .dataframe tbody tr th {\n",
       "        vertical-align: top;\n",
       "    }\n",
       "\n",
       "    .dataframe thead th {\n",
       "        text-align: right;\n",
       "    }\n",
       "</style>\n",
       "<table border=\"1\" class=\"dataframe\">\n",
       "  <thead>\n",
       "    <tr style=\"text-align: right;\">\n",
       "      <th></th>\n",
       "      <th>Age</th>\n",
       "      <th>Income</th>\n",
       "      <th>Total_Spending</th>\n",
       "      <th>NumWebPurchases</th>\n",
       "      <th>NumStorePurchases</th>\n",
       "      <th>NumWebVisitsMonth</th>\n",
       "    </tr>\n",
       "    <tr>\n",
       "      <th>Cluster</th>\n",
       "      <th></th>\n",
       "      <th></th>\n",
       "      <th></th>\n",
       "      <th></th>\n",
       "      <th></th>\n",
       "      <th></th>\n",
       "    </tr>\n",
       "  </thead>\n",
       "  <tbody>\n",
       "    <tr>\n",
       "      <th>0</th>\n",
       "      <td>69.602606</td>\n",
       "      <td>73990.286645</td>\n",
       "      <td>1204.967427</td>\n",
       "      <td>4.550489</td>\n",
       "      <td>8.270358</td>\n",
       "      <td>2.615635</td>\n",
       "    </tr>\n",
       "    <tr>\n",
       "      <th>1</th>\n",
       "      <td>59.816609</td>\n",
       "      <td>64295.027682</td>\n",
       "      <td>1065.560554</td>\n",
       "      <td>8.467128</td>\n",
       "      <td>9.166090</td>\n",
       "      <td>5.944637</td>\n",
       "    </tr>\n",
       "    <tr>\n",
       "      <th>2</th>\n",
       "      <td>47.099678</td>\n",
       "      <td>29951.779743</td>\n",
       "      <td>76.821543</td>\n",
       "      <td>1.901929</td>\n",
       "      <td>2.918006</td>\n",
       "      <td>6.971061</td>\n",
       "    </tr>\n",
       "    <tr>\n",
       "      <th>3</th>\n",
       "      <td>46.104938</td>\n",
       "      <td>78439.240741</td>\n",
       "      <td>1303.929012</td>\n",
       "      <td>4.512346</td>\n",
       "      <td>8.543210</td>\n",
       "      <td>2.604938</td>\n",
       "    </tr>\n",
       "    <tr>\n",
       "      <th>4</th>\n",
       "      <td>66.229885</td>\n",
       "      <td>40431.367816</td>\n",
       "      <td>113.752874</td>\n",
       "      <td>1.939655</td>\n",
       "      <td>3.528736</td>\n",
       "      <td>5.410920</td>\n",
       "    </tr>\n",
       "    <tr>\n",
       "      <th>5</th>\n",
       "      <td>56.923313</td>\n",
       "      <td>50212.242331</td>\n",
       "      <td>483.328221</td>\n",
       "      <td>5.794479</td>\n",
       "      <td>5.693252</td>\n",
       "      <td>6.757669</td>\n",
       "    </tr>\n",
       "  </tbody>\n",
       "</table>\n",
       "</div>"
      ],
      "text/plain": [
       "               Age        Income  Total_Spending  NumWebPurchases  \\\n",
       "Cluster                                                             \n",
       "0        69.602606  73990.286645     1204.967427         4.550489   \n",
       "1        59.816609  64295.027682     1065.560554         8.467128   \n",
       "2        47.099678  29951.779743       76.821543         1.901929   \n",
       "3        46.104938  78439.240741     1303.929012         4.512346   \n",
       "4        66.229885  40431.367816      113.752874         1.939655   \n",
       "5        56.923313  50212.242331      483.328221         5.794479   \n",
       "\n",
       "         NumStorePurchases  NumWebVisitsMonth  \n",
       "Cluster                                        \n",
       "0                 8.270358           2.615635  \n",
       "1                 9.166090           5.944637  \n",
       "2                 2.918006           6.971061  \n",
       "3                 8.543210           2.604938  \n",
       "4                 3.528736           5.410920  \n",
       "5                 5.693252           6.757669  "
      ]
     },
     "execution_count": 68,
     "metadata": {},
     "output_type": "execute_result"
    }
   ],
   "source": [
    "cluster_summary"
   ]
  },
  {
   "cell_type": "code",
   "execution_count": 69,
   "id": "26e292fc",
   "metadata": {},
   "outputs": [
    {
     "data": {
      "text/plain": [
       "Cluster\n",
       "2    622\n",
       "4    348\n",
       "5    326\n",
       "3    324\n",
       "0    307\n",
       "1    289\n",
       "Name: count, dtype: int64"
      ]
     },
     "execution_count": 69,
     "metadata": {},
     "output_type": "execute_result"
    }
   ],
   "source": [
    "df[\"Cluster\"].value_counts()"
   ]
  },
  {
   "cell_type": "code",
   "execution_count": 70,
   "id": "6a1807ed",
   "metadata": {},
   "outputs": [],
   "source": [
    "from sklearn.decomposition import PCA\n",
    "\n",
    "# Create PCA model with 2 components\n",
    "pca = PCA(n_components=2)\n",
    "\n",
    "# Fit and transform the scaled data\n",
    "pca_data = pca.fit_transform(X_scaled)\n",
    "\n",
    "# Add PCA results to the dataframe\n",
    "df[\"PCA1\"] = pca_data[:, 0]\n",
    "df[\"PCA2\"] = pca_data[:, 1]\n"
   ]
  },
  {
   "cell_type": "code",
   "execution_count": 71,
   "id": "561d5b6a",
   "metadata": {},
   "outputs": [
    {
     "data": {
      "text/plain": [
       "array([[ 1.1051798 ,  1.63021086],\n",
       "       [-1.3340086 , -0.2097081 ],\n",
       "       [ 1.88841354,  0.63959163],\n",
       "       ...,\n",
       "       [ 1.1427021 , -0.66746009],\n",
       "       [ 1.89843476,  0.30996359],\n",
       "       [-0.8395238 ,  0.72707899]], shape=(2216, 2))"
      ]
     },
     "execution_count": 71,
     "metadata": {},
     "output_type": "execute_result"
    }
   ],
   "source": [
    "pca_data"
   ]
  },
  {
   "cell_type": "code",
   "execution_count": 72,
   "id": "e8052c18",
   "metadata": {},
   "outputs": [
    {
     "data": {
      "text/plain": [
       "0       1.630211\n",
       "1      -0.209708\n",
       "2       0.639592\n",
       "3      -0.717599\n",
       "4      -0.383926\n",
       "          ...   \n",
       "2235    0.952250\n",
       "2236    2.085213\n",
       "2237   -0.667460\n",
       "2238    0.309964\n",
       "2239    0.727079\n",
       "Name: PCA2, Length: 2216, dtype: float64"
      ]
     },
     "execution_count": 72,
     "metadata": {},
     "output_type": "execute_result"
    }
   ],
   "source": [
    "df[\"PCA2\"]"
   ]
  },
  {
   "cell_type": "code",
   "execution_count": 73,
   "id": "43e4b1bf",
   "metadata": {},
   "outputs": [
    {
     "data": {
      "image/png": "[encoded data removed]",
      "text/plain": [
       "<Figure size 640x480 with 1 Axes>"
      ]
     },
     "metadata": {},
     "output_type": "display_data"
    }
   ],
   "source": [
    "sns.scatterplot(x=\"PCA1\",y=\"PCA2\", hue=\"Cluster\",data=df,palette=\"Set1\")\n",
    "plt.title(\"Customer Segmentation PCA\")\n",
    "plt.show()"
   ]
  },
  {
   "cell_type": "code",
   "execution_count": 74,
   "id": "4986353e",
   "metadata": {},
   "outputs": [
    {
     "data": {
      "text/html": [
       "<div>\n",
       "<style scoped>\n",
       "    .dataframe tbody tr th:only-of-type {\n",
       "        vertical-align: middle;\n",
       "    }\n",
       "\n",
       "    .dataframe tbody tr th {\n",
       "        vertical-align: top;\n",
       "    }\n",
       "\n",
       "    .dataframe thead th {\n",
       "        text-align: right;\n",
       "    }\n",
       "</style>\n",
       "<table border=\"1\" class=\"dataframe\">\n",
       "  <thead>\n",
       "    <tr style=\"text-align: right;\">\n",
       "      <th></th>\n",
       "      <th>Age</th>\n",
       "      <th>Income</th>\n",
       "      <th>Total_Spending</th>\n",
       "      <th>NumWebPurchases</th>\n",
       "      <th>NumStorePurchases</th>\n",
       "      <th>NumWebVisitsMonth</th>\n",
       "    </tr>\n",
       "    <tr>\n",
       "      <th>Cluster</th>\n",
       "      <th></th>\n",
       "      <th></th>\n",
       "      <th></th>\n",
       "      <th></th>\n",
       "      <th></th>\n",
       "      <th></th>\n",
       "    </tr>\n",
       "  </thead>\n",
       "  <tbody>\n",
       "    <tr>\n",
       "      <th>0</th>\n",
       "      <td>69.602606</td>\n",
       "      <td>73990.286645</td>\n",
       "      <td>1204.967427</td>\n",
       "      <td>4.550489</td>\n",
       "      <td>8.270358</td>\n",
       "      <td>2.615635</td>\n",
       "    </tr>\n",
       "    <tr>\n",
       "      <th>1</th>\n",
       "      <td>59.816609</td>\n",
       "      <td>64295.027682</td>\n",
       "      <td>1065.560554</td>\n",
       "      <td>8.467128</td>\n",
       "      <td>9.166090</td>\n",
       "      <td>5.944637</td>\n",
       "    </tr>\n",
       "    <tr>\n",
       "      <th>2</th>\n",
       "      <td>47.099678</td>\n",
       "      <td>29951.779743</td>\n",
       "      <td>76.821543</td>\n",
       "      <td>1.901929</td>\n",
       "      <td>2.918006</td>\n",
       "      <td>6.971061</td>\n",
       "    </tr>\n",
       "    <tr>\n",
       "      <th>3</th>\n",
       "      <td>46.104938</td>\n",
       "      <td>78439.240741</td>\n",
       "      <td>1303.929012</td>\n",
       "      <td>4.512346</td>\n",
       "      <td>8.543210</td>\n",
       "      <td>2.604938</td>\n",
       "    </tr>\n",
       "    <tr>\n",
       "      <th>4</th>\n",
       "      <td>66.229885</td>\n",
       "      <td>40431.367816</td>\n",
       "      <td>113.752874</td>\n",
       "      <td>1.939655</td>\n",
       "      <td>3.528736</td>\n",
       "      <td>5.410920</td>\n",
       "    </tr>\n",
       "    <tr>\n",
       "      <th>5</th>\n",
       "      <td>56.923313</td>\n",
       "      <td>50212.242331</td>\n",
       "      <td>483.328221</td>\n",
       "      <td>5.794479</td>\n",
       "      <td>5.693252</td>\n",
       "      <td>6.757669</td>\n",
       "    </tr>\n",
       "  </tbody>\n",
       "</table>\n",
       "</div>"
      ],
      "text/plain": [
       "               Age        Income  Total_Spending  NumWebPurchases  \\\n",
       "Cluster                                                             \n",
       "0        69.602606  73990.286645     1204.967427         4.550489   \n",
       "1        59.816609  64295.027682     1065.560554         8.467128   \n",
       "2        47.099678  29951.779743       76.821543         1.901929   \n",
       "3        46.104938  78439.240741     1303.929012         4.512346   \n",
       "4        66.229885  40431.367816      113.752874         1.939655   \n",
       "5        56.923313  50212.242331      483.328221         5.794479   \n",
       "\n",
       "         NumStorePurchases  NumWebVisitsMonth  \n",
       "Cluster                                        \n",
       "0                 8.270358           2.615635  \n",
       "1                 9.166090           5.944637  \n",
       "2                 2.918006           6.971061  \n",
       "3                 8.543210           2.604938  \n",
       "4                 3.528736           5.410920  \n",
       "5                 5.693252           6.757669  "
      ]
     },
     "execution_count": 74,
     "metadata": {},
     "output_type": "execute_result"
    }
   ],
   "source": [
    "cluster_summary"
   ]
  },
  {
   "cell_type": "code",
   "execution_count": 75,
   "id": "f0f18bb1",
   "metadata": {},
   "outputs": [
    {
     "data": {
      "text/plain": [
       "['scaler.pkl']"
      ]
     },
     "execution_count": 75,
     "metadata": {},
     "output_type": "execute_result"
    }
   ],
   "source": [
    "import joblib\n",
    "joblib.dump(kmeans, \"kmeans_model.pkl\")\n",
    "joblib.dump(scaler, \"scaler.pkl\")\n"
   ]
  },
  {
   "cell_type": "code",
   "execution_count": null,
   "id": "3e160b10",
   "metadata": {},
   "outputs": [],
   "source": []
  }
 ],
 "metadata": {
  "kernelspec": {
   "display_name": "base",
   "language": "python",
   "name": "python3"
  },
  "language_info": {
   "codemirror_mode": {
    "name": "ipython",
    "version": 3
   },
   "file_extension": ".py",
   "mimetype": "text/x-python",
   "name": "python",
   "nbconvert_exporter": "python",
   "pygments_lexer": "ipython3",
   "version": "3.13.5"
  }
 },
 "nbformat": 4,
 "nbformat_minor": 5
}
